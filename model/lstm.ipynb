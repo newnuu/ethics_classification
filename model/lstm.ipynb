{
 "cells": [
  {
   "cell_type": "markdown",
   "id": "8eef16d8",
   "metadata": {},
   "source": [
    "Pytorch를 사용한 LSTM 텍스트 분류<br>\n",
    "https://ichi.pro/ko/pytorchleul-sayonghan-lstm-tegseuteu-bunlyu-48844070948800"
   ]
  },
  {
   "cell_type": "code",
   "execution_count": 2,
   "id": "4f965f6e",
   "metadata": {},
   "outputs": [
    {
     "name": "stdout",
     "output_type": "stream",
     "text": [
      "Collecting torchtext\n",
      "  Downloading torchtext-0.11.1-cp37-cp37m-macosx_10_9_x86_64.whl (1.7 MB)\n",
      "\u001b[K     |████████████████████████████████| 1.7 MB 7.5 MB/s eta 0:00:01\n",
      "\u001b[?25hRequirement already satisfied: numpy in /opt/anaconda3/lib/python3.7/site-packages (from torchtext) (1.21.2)\n",
      "Requirement already satisfied: tqdm in /opt/anaconda3/lib/python3.7/site-packages (from torchtext) (4.56.2)\n",
      "Collecting torch==1.10.1\n",
      "  Downloading torch-1.10.1-cp37-none-macosx_10_9_x86_64.whl (147.1 MB)\n",
      "\u001b[K     |████████████████████████████████| 147.1 MB 108 kB/s eta 0:00:011    |████████████▎                   | 56.5 MB 10.6 MB/s eta 0:00:09\n",
      "\u001b[?25hRequirement already satisfied: requests in /opt/anaconda3/lib/python3.7/site-packages (from torchtext) (2.25.1)\n",
      "Requirement already satisfied: typing-extensions in /opt/anaconda3/lib/python3.7/site-packages (from torch==1.10.1->torchtext) (3.7.4.3)\n",
      "Requirement already satisfied: certifi>=2017.4.17 in /opt/anaconda3/lib/python3.7/site-packages (from requests->torchtext) (2019.11.28)\n",
      "Requirement already satisfied: urllib3<1.27,>=1.21.1 in /opt/anaconda3/lib/python3.7/site-packages (from requests->torchtext) (1.25.8)\n",
      "Requirement already satisfied: chardet<5,>=3.0.2 in /opt/anaconda3/lib/python3.7/site-packages (from requests->torchtext) (3.0.4)\n",
      "Requirement already satisfied: idna<3,>=2.5 in /opt/anaconda3/lib/python3.7/site-packages (from requests->torchtext) (2.8)\n",
      "\u001b[31mERROR: torchvision 0.8.2 has requirement torch==1.7.1, but you'll have torch 1.10.1 which is incompatible.\u001b[0m\n",
      "\u001b[31mERROR: lightautoml 0.3.0 has requirement torch<1.9, but you'll have torch 1.10.1 which is incompatible.\u001b[0m\n",
      "Installing collected packages: torch, torchtext\n",
      "  Attempting uninstall: torch\n",
      "    Found existing installation: torch 1.7.1\n",
      "    Uninstalling torch-1.7.1:\n",
      "      Successfully uninstalled torch-1.7.1\n",
      "Successfully installed torch-1.10.1 torchtext-0.11.1\n"
     ]
    }
   ],
   "source": [
    "!pip install torchtext"
   ]
  },
  {
   "cell_type": "code",
   "execution_count": 3,
   "id": "b74cf03d",
   "metadata": {},
   "outputs": [
    {
     "ename": "ImportError",
     "evalue": "dlopen(/opt/anaconda3/lib/python3.7/site-packages/torchtext/_torchtext.so, 2): Symbol not found: __ZNK3c104Type14isSubtypeOfExtERKNSt3__110shared_ptrIS0_EEPNS1_13basic_ostreamIcNS1_11char_traitsIcEEEE\n  Referenced from: /opt/anaconda3/lib/python3.7/site-packages/torchtext/_torchtext.so\n  Expected in: /opt/anaconda3/lib/python3.7/site-packages/torch/lib/libtorch_cpu.dylib\n in /opt/anaconda3/lib/python3.7/site-packages/torchtext/_torchtext.so",
     "output_type": "error",
     "traceback": [
      "\u001b[0;31m---------------------------------------------------------------------------\u001b[0m",
      "\u001b[0;31mImportError\u001b[0m                               Traceback (most recent call last)",
      "\u001b[0;32m<ipython-input-3-b64c90f0b9be>\u001b[0m in \u001b[0;36m<module>\u001b[0;34m\u001b[0m\n\u001b[1;32m      5\u001b[0m \u001b[0;32mfrom\u001b[0m \u001b[0msklearn\u001b[0m\u001b[0;34m.\u001b[0m\u001b[0mmodel_selection\u001b[0m \u001b[0;32mimport\u001b[0m \u001b[0mtrain_test_split\u001b[0m\u001b[0;34m\u001b[0m\u001b[0;34m\u001b[0m\u001b[0m\n\u001b[1;32m      6\u001b[0m \u001b[0;34m\u001b[0m\u001b[0m\n\u001b[0;32m----> 7\u001b[0;31m \u001b[0;32mfrom\u001b[0m \u001b[0mtorchtext\u001b[0m\u001b[0;34m.\u001b[0m\u001b[0mlegacy\u001b[0m\u001b[0;34m.\u001b[0m\u001b[0mdata\u001b[0m \u001b[0;32mimport\u001b[0m \u001b[0mField\u001b[0m\u001b[0;34m,\u001b[0m \u001b[0mTabularDataset\u001b[0m\u001b[0;34m,\u001b[0m \u001b[0mBucketIterator\u001b[0m\u001b[0;34m\u001b[0m\u001b[0;34m\u001b[0m\u001b[0m\n\u001b[0m\u001b[1;32m      8\u001b[0m \u001b[0;34m\u001b[0m\u001b[0m\n\u001b[1;32m      9\u001b[0m \u001b[0;31m# Model\u001b[0m\u001b[0;34m\u001b[0m\u001b[0;34m\u001b[0m\u001b[0;34m\u001b[0m\u001b[0m\n",
      "\u001b[0;32m/opt/anaconda3/lib/python3.7/site-packages/torchtext/__init__.py\u001b[0m in \u001b[0;36m<module>\u001b[0;34m\u001b[0m\n\u001b[1;32m      3\u001b[0m \u001b[0;32mfrom\u001b[0m \u001b[0;34m.\u001b[0m \u001b[0;32mimport\u001b[0m \u001b[0mdatasets\u001b[0m\u001b[0;34m\u001b[0m\u001b[0;34m\u001b[0m\u001b[0m\n\u001b[1;32m      4\u001b[0m \u001b[0;32mfrom\u001b[0m \u001b[0;34m.\u001b[0m \u001b[0;32mimport\u001b[0m \u001b[0mutils\u001b[0m\u001b[0;34m\u001b[0m\u001b[0;34m\u001b[0m\u001b[0m\n\u001b[0;32m----> 5\u001b[0;31m \u001b[0;32mfrom\u001b[0m \u001b[0;34m.\u001b[0m \u001b[0;32mimport\u001b[0m \u001b[0mvocab\u001b[0m\u001b[0;34m\u001b[0m\u001b[0;34m\u001b[0m\u001b[0m\n\u001b[0m\u001b[1;32m      6\u001b[0m \u001b[0;32mfrom\u001b[0m \u001b[0;34m.\u001b[0m \u001b[0;32mimport\u001b[0m \u001b[0mlegacy\u001b[0m\u001b[0;34m\u001b[0m\u001b[0;34m\u001b[0m\u001b[0m\n\u001b[1;32m      7\u001b[0m \u001b[0;32mfrom\u001b[0m \u001b[0;34m.\u001b[0m\u001b[0m_extension\u001b[0m \u001b[0;32mimport\u001b[0m \u001b[0m_init_extension\u001b[0m\u001b[0;34m\u001b[0m\u001b[0;34m\u001b[0m\u001b[0m\n",
      "\u001b[0;32m/opt/anaconda3/lib/python3.7/site-packages/torchtext/vocab/__init__.py\u001b[0m in \u001b[0;36m<module>\u001b[0;34m\u001b[0m\n\u001b[1;32m      9\u001b[0m )\n\u001b[1;32m     10\u001b[0m \u001b[0;34m\u001b[0m\u001b[0m\n\u001b[0;32m---> 11\u001b[0;31m from .vocab_factory import (\n\u001b[0m\u001b[1;32m     12\u001b[0m     \u001b[0mvocab\u001b[0m\u001b[0;34m,\u001b[0m\u001b[0;34m\u001b[0m\u001b[0;34m\u001b[0m\u001b[0m\n\u001b[1;32m     13\u001b[0m     \u001b[0mbuild_vocab_from_iterator\u001b[0m\u001b[0;34m,\u001b[0m\u001b[0;34m\u001b[0m\u001b[0;34m\u001b[0m\u001b[0m\n",
      "\u001b[0;32m/opt/anaconda3/lib/python3.7/site-packages/torchtext/vocab/vocab_factory.py\u001b[0m in \u001b[0;36m<module>\u001b[0;34m\u001b[0m\n\u001b[1;32m      2\u001b[0m \u001b[0;32mfrom\u001b[0m \u001b[0mtyping\u001b[0m \u001b[0;32mimport\u001b[0m \u001b[0mDict\u001b[0m\u001b[0;34m,\u001b[0m \u001b[0mIterable\u001b[0m\u001b[0;34m,\u001b[0m \u001b[0mOptional\u001b[0m\u001b[0;34m,\u001b[0m \u001b[0mList\u001b[0m\u001b[0;34m\u001b[0m\u001b[0;34m\u001b[0m\u001b[0m\n\u001b[1;32m      3\u001b[0m \u001b[0;32mfrom\u001b[0m \u001b[0mcollections\u001b[0m \u001b[0;32mimport\u001b[0m \u001b[0mCounter\u001b[0m\u001b[0;34m,\u001b[0m \u001b[0mOrderedDict\u001b[0m\u001b[0;34m\u001b[0m\u001b[0;34m\u001b[0m\u001b[0m\n\u001b[0;32m----> 4\u001b[0;31m from torchtext._torchtext import (\n\u001b[0m\u001b[1;32m      5\u001b[0m     \u001b[0mVocab\u001b[0m \u001b[0;32mas\u001b[0m \u001b[0mVocabPybind\u001b[0m\u001b[0;34m,\u001b[0m\u001b[0;34m\u001b[0m\u001b[0;34m\u001b[0m\u001b[0m\n\u001b[1;32m      6\u001b[0m )\n",
      "\u001b[0;31mImportError\u001b[0m: dlopen(/opt/anaconda3/lib/python3.7/site-packages/torchtext/_torchtext.so, 2): Symbol not found: __ZNK3c104Type14isSubtypeOfExtERKNSt3__110shared_ptrIS0_EEPNS1_13basic_ostreamIcNS1_11char_traitsIcEEEE\n  Referenced from: /opt/anaconda3/lib/python3.7/site-packages/torchtext/_torchtext.so\n  Expected in: /opt/anaconda3/lib/python3.7/site-packages/torch/lib/libtorch_cpu.dylib\n in /opt/anaconda3/lib/python3.7/site-packages/torchtext/_torchtext.so"
     ]
    }
   ],
   "source": [
    "import pandas as pd\n",
    "import numpy as np\n",
    "import matplotlib.pyplot as plt\n",
    "import torch\n",
    "from sklearn.model_selection import train_test_split\n",
    "\n",
    "from torchtext.legacy.data import Field, TabularDataset, BucketIterator\n",
    "\n",
    "# Model\n",
    "import torch.nn as nn\n",
    "from torch.nn.utils.rnn import pack_padded_sequence, pad_packed_sequence\n",
    "\n",
    "#training\n",
    "import torch.optim as optim\n",
    "\n",
    "# Evaluation\n",
    "from sklearn.metrics import accuracy_score, classification_report, confusion_matrix,f1_score\n",
    "import seaborn as sns"
   ]
  },
  {
   "cell_type": "code",
   "execution_count": null,
   "id": "cbfcd3a6",
   "metadata": {},
   "outputs": [],
   "source": [
    "data = pd.read_csv('./unethical_01.csv')"
   ]
  },
  {
   "cell_type": "code",
   "execution_count": null,
   "id": "e29885a8",
   "metadata": {},
   "outputs": [],
   "source": [
    "data"
   ]
  },
  {
   "cell_type": "code",
   "execution_count": 19,
   "id": "6e123acc",
   "metadata": {},
   "outputs": [],
   "source": [
    "#train,test = train_test_split(data,train_size = 0.9)"
   ]
  },
  {
   "cell_type": "code",
   "execution_count": 20,
   "id": "e9baed9d",
   "metadata": {},
   "outputs": [],
   "source": [
    "#train"
   ]
  },
  {
   "cell_type": "code",
   "execution_count": 21,
   "id": "6b390b9e",
   "metadata": {},
   "outputs": [],
   "source": [
    "#train.describe()"
   ]
  },
  {
   "cell_type": "code",
   "execution_count": 22,
   "id": "d5b6dfc3",
   "metadata": {},
   "outputs": [],
   "source": [
    "#train = train.rename(columns={'범죄':'crime'})\n",
    "#test = test.rename(columns={'범죄':'crime'})"
   ]
  },
  {
   "cell_type": "code",
   "execution_count": 23,
   "id": "282320da",
   "metadata": {},
   "outputs": [],
   "source": [
    "#train.to_csv('./lstm_train.csv')"
   ]
  },
  {
   "cell_type": "code",
   "execution_count": 24,
   "id": "49a84187",
   "metadata": {},
   "outputs": [],
   "source": [
    "#test.to_csv('./lstm_test.csv')"
   ]
  },
  {
   "cell_type": "code",
   "execution_count": 25,
   "id": "6fc97340",
   "metadata": {},
   "outputs": [],
   "source": [
    "train = pd.read_csv('./train_ml2.csv')\n",
    "test = pd.read_csv('./test_ml2.csv')"
   ]
  },
  {
   "cell_type": "code",
   "execution_count": 26,
   "id": "6f32ef83",
   "metadata": {},
   "outputs": [],
   "source": [
    "train = train[['sentence','범죄','혐오','선정','비도덕 아님','폭력','비난','욕설','차별']]\n",
    "test = test[['sentence','범죄','혐오','선정','비도덕 아님','폭력','비난','욕설','차별']]"
   ]
  },
  {
   "cell_type": "code",
   "execution_count": 27,
   "id": "c659840e",
   "metadata": {},
   "outputs": [],
   "source": [
    "train,valid = train_test_split(data,train_size = 0.9)"
   ]
  },
  {
   "cell_type": "code",
   "execution_count": 28,
   "id": "ba14e154",
   "metadata": {},
   "outputs": [
    {
     "data": {
      "text/html": [
       "<div>\n",
       "<style scoped>\n",
       "    .dataframe tbody tr th:only-of-type {\n",
       "        vertical-align: middle;\n",
       "    }\n",
       "\n",
       "    .dataframe tbody tr th {\n",
       "        vertical-align: top;\n",
       "    }\n",
       "\n",
       "    .dataframe thead th {\n",
       "        text-align: right;\n",
       "    }\n",
       "</style>\n",
       "<table border=\"1\" class=\"dataframe\">\n",
       "  <thead>\n",
       "    <tr style=\"text-align: right;\">\n",
       "      <th></th>\n",
       "      <th>sentence</th>\n",
       "      <th>범죄</th>\n",
       "      <th>혐오</th>\n",
       "      <th>선정</th>\n",
       "      <th>비도덕 아님</th>\n",
       "      <th>폭력</th>\n",
       "      <th>비난</th>\n",
       "      <th>욕설</th>\n",
       "      <th>차별</th>\n",
       "    </tr>\n",
       "  </thead>\n",
       "  <tbody>\n",
       "  </tbody>\n",
       "</table>\n",
       "</div>"
      ],
      "text/plain": [
       "Empty DataFrame\n",
       "Columns: [sentence, 범죄, 혐오, 선정, 비도덕 아님, 폭력, 비난, 욕설, 차별]\n",
       "Index: []"
      ]
     },
     "execution_count": 28,
     "metadata": {},
     "output_type": "execute_result"
    }
   ],
   "source": [
    "train[train['sentence'].isna()]"
   ]
  },
  {
   "cell_type": "code",
   "execution_count": 29,
   "id": "6cb7c027",
   "metadata": {},
   "outputs": [],
   "source": [
    "train.to_csv('./train_multilabel.csv')\n",
    "valid.to_csv('./valid_ml.csv')\n",
    "test.to_csv('./test_multilabel.csv')"
   ]
  },
  {
   "cell_type": "code",
   "execution_count": 30,
   "id": "95722a72",
   "metadata": {},
   "outputs": [],
   "source": [
    "device = torch.device('cuda' if torch.cuda.is_available() else 'cpu')"
   ]
  },
  {
   "cell_type": "code",
   "execution_count": 31,
   "id": "04b0aeeb",
   "metadata": {},
   "outputs": [],
   "source": [
    "# Fields\n",
    "id_field = Field(sequential = False,\n",
    "                use_vocab = False) # 실제 사용은 하지 않을 예정\n",
    "text_field = Field(sequential=True,\n",
    "             use_vocab=True,\n",
    "             tokenize=str.split, lower = True, include_lengths = True, batch_first = True,dtype = torch.long)\n",
    "label_field = Field(sequential=False, use_vocab = False,dtype=torch.float)\n",
    "\n",
    "#fields = [('id',id_field),('sentence',text_field),('crime',label_field)]\n",
    "fields = [('id',id_field),('sentence',text_field),('crime',label_field),('혐오',label_field),('선정',label_field),('비도덕 아님',label_field),('폭력',label_field),('비난',label_field),('욕설',label_field),('차별',label_field)]\n"
   ]
  },
  {
   "cell_type": "code",
   "execution_count": 32,
   "id": "9ff5397f",
   "metadata": {},
   "outputs": [],
   "source": [
    "# Tabular Dataset\n",
    "train,valid,test = TabularDataset.splits(path = './', train = 'train_multilabel.csv',validation = 'valid_ml.csv',test = 'test_multilabel.csv',format = 'CSV',fields = fields, skip_header=True)\n"
   ]
  },
  {
   "cell_type": "code",
   "execution_count": 33,
   "id": "db684bc8",
   "metadata": {},
   "outputs": [],
   "source": [
    "train_iter = BucketIterator(train, batch_size = 64, device = device, sort_key=lambda x: len(x.sentence),shuffle=True, sort_within_batch = True)\n",
    "valid_iter = BucketIterator(valid, batch_size = 64, device = device, sort_key=lambda x: len(x.sentence),shuffle=True, sort_within_batch = True)\n",
    "\n",
    "test_iter = BucketIterator(test, batch_size = 64, device = device, sort_key=lambda x: len(x.sentence),shuffle=True, sort_within_batch = True)\n"
   ]
  },
  {
   "cell_type": "code",
   "execution_count": 34,
   "id": "09928ce2",
   "metadata": {},
   "outputs": [],
   "source": [
    "text_field.build_vocab(train)"
   ]
  },
  {
   "cell_type": "code",
   "execution_count": 35,
   "id": "486e3109",
   "metadata": {},
   "outputs": [
    {
     "data": {
      "text/plain": [
       "<torchtext.legacy.data.field.Field at 0x7f220270aed0>"
      ]
     },
     "execution_count": 35,
     "metadata": {},
     "output_type": "execute_result"
    }
   ],
   "source": [
    "label_field"
   ]
  },
  {
   "cell_type": "markdown",
   "id": "4649e023",
   "metadata": {},
   "source": [
    "# Model"
   ]
  },
  {
   "cell_type": "code",
   "execution_count": 36,
   "id": "6c93bad1",
   "metadata": {},
   "outputs": [],
   "source": [
    "class LSTM(nn.Module):\n",
    "    def __init__(self,dimension=128):\n",
    "        super(LSTM,self).__init__()\n",
    "        self.embedding = nn.Embedding(len(text_field.vocab),32)\n",
    "        self.dimension = dimension\n",
    "        self.lstm = nn.LSTM(input_size = 32,hidden_size = dimension,num_layers=1,batch_first = True,bidirectional = True)\n",
    "        \n",
    "        self.drop = nn.Dropout(p=0.5)\n",
    "        \n",
    "        self.fc = nn.Linear(2*dimension,1)\n",
    "        \n",
    "    def forward(self,text,text_len):\n",
    "        text_emb = self.embedding(text)\n",
    "        packed_input = pack_padded_sequence(text_emb, text_len.cpu(), batch_first=True, enforce_sorted=False)\n",
    "        packed_output, _ = self.lstm(packed_input)\n",
    "        output, _ = pad_packed_sequence(packed_output, batch_first=True)\n",
    "\n",
    "        out_forward = output[range(len(output)), text_len - 1, :self.dimension] # 정방향 lstm의 마지막 hidden state\n",
    "        out_reverse = output[:, 0, self.dimension:] # 역방향 lstm의 첫번째 hidden state\n",
    "        out_reduced = torch.cat((out_forward, out_reverse), 1)\n",
    "        text_fea = self.drop(out_reduced)\n",
    "\n",
    "        text_fea = self.fc(text_fea)\n",
    "        text_fea = torch.squeeze(text_fea, 1)\n",
    "        text_out = torch.sigmoid(text_fea)\n",
    "\n",
    "        return text_out\n",
    "        "
   ]
  },
  {
   "cell_type": "code",
   "execution_count": 37,
   "id": "63b873aa",
   "metadata": {},
   "outputs": [],
   "source": [
    "# Save and Load Functions\n",
    "\n",
    "def save_checkpoint(save_path, model, optimizer, valid_loss):\n",
    "\n",
    "    if save_path == None:\n",
    "        return\n",
    "    \n",
    "    state_dict = {'model_state_dict': model.state_dict(),\n",
    "                  'optimizer_state_dict': optimizer.state_dict(),\n",
    "                  'valid_loss': valid_loss}\n",
    "    \n",
    "    torch.save(state_dict, save_path)\n",
    "    print(f'Model saved to ==> {save_path}')\n",
    "\n",
    "\n",
    "def load_checkpoint(load_path, model, optimizer):\n",
    "\n",
    "    if load_path==None:\n",
    "        return\n",
    "    \n",
    "    state_dict = torch.load(load_path, map_location=device)\n",
    "    print(f'Model loaded from <== {load_path}')\n",
    "    \n",
    "    model.load_state_dict(state_dict['model_state_dict'])\n",
    "    optimizer.load_state_dict(state_dict['optimizer_state_dict'])\n",
    "    \n",
    "    return state_dict['valid_loss']\n",
    "\n",
    "\n",
    "def save_metrics(save_path, train_loss_list, valid_loss_list, global_steps_list):\n",
    "\n",
    "    if save_path == None:\n",
    "        return\n",
    "    \n",
    "    state_dict = {'train_loss_list': train_loss_list,\n",
    "                  'valid_loss_list': valid_loss_list,\n",
    "                  'global_steps_list': global_steps_list}\n",
    "    \n",
    "    torch.save(state_dict, save_path)\n",
    "    print(f'Model saved to ==> {save_path}')\n",
    "\n",
    "\n",
    "def load_metrics(load_path):\n",
    "\n",
    "    if load_path==None:\n",
    "        return\n",
    "    \n",
    "    state_dict = torch.load(load_path, map_location=device)\n",
    "    print(f'Model loaded from <== {load_path}')\n",
    "    \n",
    "    return state_dict['train_loss_list'], state_dict['valid_loss_list'], state_dict['global_steps_list']\n"
   ]
  },
  {
   "cell_type": "code",
   "execution_count": 38,
   "id": "450b8ae2",
   "metadata": {
    "tags": []
   },
   "outputs": [
    {
     "name": "stdout",
     "output_type": "stream",
     "text": [
      "Epoch [1/10], Step [70/1410], Train Loss: 0.2780, Valid Loss: 0.1653\n",
      "Model saved to ==> ./crime_model.pt\n",
      "Model saved to ==> ./crime_metrics.pt\n",
      "Epoch [1/10], Step [140/1410], Train Loss: 0.1444, Valid Loss: 0.1528\n",
      "Model saved to ==> ./crime_model.pt\n",
      "Model saved to ==> ./crime_metrics.pt\n",
      "Epoch [2/10], Step [210/1410], Train Loss: 0.1343, Valid Loss: 0.1556\n",
      "Epoch [2/10], Step [280/1410], Train Loss: 0.1234, Valid Loss: 0.1565\n",
      "Epoch [3/10], Step [350/1410], Train Loss: 0.1289, Valid Loss: 0.1617\n",
      "Epoch [3/10], Step [420/1410], Train Loss: 0.1129, Valid Loss: 0.1632\n",
      "Epoch [4/10], Step [490/1410], Train Loss: 0.1213, Valid Loss: 0.1727\n",
      "Epoch [4/10], Step [560/1410], Train Loss: 0.1031, Valid Loss: 0.1808\n",
      "Epoch [5/10], Step [630/1410], Train Loss: 0.1059, Valid Loss: 0.1885\n",
      "Epoch [5/10], Step [700/1410], Train Loss: 0.0834, Valid Loss: 0.1980\n",
      "Epoch [6/10], Step [770/1410], Train Loss: 0.0769, Valid Loss: 0.2438\n",
      "Epoch [6/10], Step [840/1410], Train Loss: 0.0789, Valid Loss: 0.2147\n",
      "Epoch [7/10], Step [910/1410], Train Loss: 0.0574, Valid Loss: 0.2550\n",
      "Epoch [7/10], Step [980/1410], Train Loss: 0.0581, Valid Loss: 0.2286\n",
      "Epoch [8/10], Step [1050/1410], Train Loss: 0.0376, Valid Loss: 0.2491\n",
      "Epoch [8/10], Step [1120/1410], Train Loss: 0.0406, Valid Loss: 0.2863\n",
      "Epoch [9/10], Step [1190/1410], Train Loss: 0.0175, Valid Loss: 0.3109\n",
      "Epoch [9/10], Step [1260/1410], Train Loss: 0.0335, Valid Loss: 0.3205\n",
      "Epoch [10/10], Step [1330/1410], Train Loss: 0.0169, Valid Loss: 0.3357\n",
      "Epoch [10/10], Step [1400/1410], Train Loss: 0.0166, Valid Loss: 0.3682\n",
      "Model saved to ==> ./crime_metrics.pt\n",
      "Finished Training!\n",
      "Epoch [1/10], Step [70/1410], Train Loss: 0.8596, Valid Loss: 0.6468\n",
      "Model saved to ==> ./hate_model.pt\n",
      "Model saved to ==> ./hate_metrics.pt\n",
      "Epoch [1/10], Step [140/1410], Train Loss: 0.6592, Valid Loss: 0.6430\n",
      "Model saved to ==> ./hate_model.pt\n",
      "Model saved to ==> ./hate_metrics.pt\n",
      "Epoch [2/10], Step [210/1410], Train Loss: 0.6258, Valid Loss: 0.6440\n",
      "Epoch [2/10], Step [280/1410], Train Loss: 0.6283, Valid Loss: 0.6474\n",
      "Epoch [3/10], Step [350/1410], Train Loss: 0.5884, Valid Loss: 0.6625\n",
      "Epoch [3/10], Step [420/1410], Train Loss: 0.5830, Valid Loss: 0.6683\n",
      "Epoch [4/10], Step [490/1410], Train Loss: 0.5150, Valid Loss: 0.7033\n",
      "Epoch [4/10], Step [560/1410], Train Loss: 0.5037, Valid Loss: 0.7019\n",
      "Epoch [5/10], Step [630/1410], Train Loss: 0.3942, Valid Loss: 0.7795\n",
      "Epoch [5/10], Step [700/1410], Train Loss: 0.4078, Valid Loss: 0.7800\n",
      "Epoch [6/10], Step [770/1410], Train Loss: 0.2819, Valid Loss: 0.8793\n",
      "Epoch [6/10], Step [840/1410], Train Loss: 0.2733, Valid Loss: 0.9195\n",
      "Epoch [7/10], Step [910/1410], Train Loss: 0.1882, Valid Loss: 1.0292\n",
      "Epoch [7/10], Step [980/1410], Train Loss: 0.1713, Valid Loss: 1.0582\n",
      "Epoch [8/10], Step [1050/1410], Train Loss: 0.0940, Valid Loss: 1.1941\n",
      "Epoch [8/10], Step [1120/1410], Train Loss: 0.0994, Valid Loss: 1.1996\n",
      "Epoch [9/10], Step [1190/1410], Train Loss: 0.0592, Valid Loss: 1.4145\n",
      "Epoch [9/10], Step [1260/1410], Train Loss: 0.0681, Valid Loss: 1.3565\n",
      "Epoch [10/10], Step [1330/1410], Train Loss: 0.0443, Valid Loss: 1.5054\n",
      "Epoch [10/10], Step [1400/1410], Train Loss: 0.0372, Valid Loss: 1.5977\n",
      "Model saved to ==> ./hate_metrics.pt\n",
      "Finished Training!\n",
      "Epoch [1/10], Step [70/1410], Train Loss: 0.5926, Valid Loss: 0.2895\n",
      "Model saved to ==> ./sexual_model.pt\n",
      "Model saved to ==> ./sexual_metrics.pt\n",
      "Epoch [1/10], Step [140/1410], Train Loss: 0.3325, Valid Loss: 0.2700\n",
      "Model saved to ==> ./sexual_model.pt\n",
      "Model saved to ==> ./sexual_metrics.pt\n",
      "Epoch [2/10], Step [210/1410], Train Loss: 0.2790, Valid Loss: 0.2680\n",
      "Model saved to ==> ./sexual_model.pt\n",
      "Model saved to ==> ./sexual_metrics.pt\n",
      "Epoch [2/10], Step [280/1410], Train Loss: 0.2897, Valid Loss: 0.2661\n",
      "Model saved to ==> ./sexual_model.pt\n",
      "Model saved to ==> ./sexual_metrics.pt\n",
      "Epoch [3/10], Step [350/1410], Train Loss: 0.2432, Valid Loss: 0.2675\n",
      "Epoch [3/10], Step [420/1410], Train Loss: 0.2798, Valid Loss: 0.2687\n",
      "Epoch [4/10], Step [490/1410], Train Loss: 0.2363, Valid Loss: 0.2666\n",
      "Epoch [4/10], Step [560/1410], Train Loss: 0.2533, Valid Loss: 0.2690\n",
      "Epoch [5/10], Step [630/1410], Train Loss: 0.2408, Valid Loss: 0.2680\n",
      "Epoch [5/10], Step [700/1410], Train Loss: 0.1994, Valid Loss: 0.2797\n",
      "Epoch [6/10], Step [770/1410], Train Loss: 0.1861, Valid Loss: 0.2824\n",
      "Epoch [6/10], Step [840/1410], Train Loss: 0.1803, Valid Loss: 0.2834\n",
      "Epoch [7/10], Step [910/1410], Train Loss: 0.1373, Valid Loss: 0.3048\n",
      "Epoch [7/10], Step [980/1410], Train Loss: 0.1418, Valid Loss: 0.3131\n",
      "Epoch [8/10], Step [1050/1410], Train Loss: 0.1011, Valid Loss: 0.3289\n",
      "Epoch [8/10], Step [1120/1410], Train Loss: 0.0931, Valid Loss: 0.3486\n",
      "Epoch [9/10], Step [1190/1410], Train Loss: 0.0557, Valid Loss: 0.3842\n",
      "Epoch [9/10], Step [1260/1410], Train Loss: 0.0519, Valid Loss: 0.4047\n",
      "Epoch [10/10], Step [1330/1410], Train Loss: 0.0275, Valid Loss: 0.4413\n",
      "Epoch [10/10], Step [1400/1410], Train Loss: 0.0307, Valid Loss: 0.4974\n",
      "Model saved to ==> ./sexual_metrics.pt\n",
      "Finished Training!\n",
      "Epoch [1/10], Step [70/1410], Train Loss: 0.8587, Valid Loss: 0.5108\n",
      "Model saved to ==> ./none_model.pt\n",
      "Model saved to ==> ./none_metrics.pt\n",
      "Epoch [1/10], Step [140/1410], Train Loss: 0.5244, Valid Loss: 0.4860\n",
      "Model saved to ==> ./none_model.pt\n",
      "Model saved to ==> ./none_metrics.pt\n",
      "Epoch [2/10], Step [210/1410], Train Loss: 0.4446, Valid Loss: 0.4960\n",
      "Epoch [2/10], Step [280/1410], Train Loss: 0.4510, Valid Loss: 0.4812\n",
      "Model saved to ==> ./none_model.pt\n",
      "Model saved to ==> ./none_metrics.pt\n",
      "Epoch [3/10], Step [350/1410], Train Loss: 0.3959, Valid Loss: 0.4816\n",
      "Epoch [3/10], Step [420/1410], Train Loss: 0.3925, Valid Loss: 0.4866\n",
      "Epoch [4/10], Step [490/1410], Train Loss: 0.3434, Valid Loss: 0.5028\n",
      "Epoch [4/10], Step [560/1410], Train Loss: 0.3344, Valid Loss: 0.5144\n",
      "Epoch [5/10], Step [630/1410], Train Loss: 0.2760, Valid Loss: 0.5383\n",
      "Epoch [5/10], Step [700/1410], Train Loss: 0.2576, Valid Loss: 0.5502\n",
      "Epoch [6/10], Step [770/1410], Train Loss: 0.1907, Valid Loss: 0.6116\n",
      "Epoch [6/10], Step [840/1410], Train Loss: 0.1887, Valid Loss: 0.6179\n",
      "Epoch [7/10], Step [910/1410], Train Loss: 0.1318, Valid Loss: 0.6874\n",
      "Epoch [7/10], Step [980/1410], Train Loss: 0.1090, Valid Loss: 0.7357\n",
      "Epoch [8/10], Step [1050/1410], Train Loss: 0.0718, Valid Loss: 0.8205\n",
      "Epoch [8/10], Step [1120/1410], Train Loss: 0.0733, Valid Loss: 0.9080\n",
      "Epoch [9/10], Step [1190/1410], Train Loss: 0.0361, Valid Loss: 0.9872\n",
      "Epoch [9/10], Step [1260/1410], Train Loss: 0.0471, Valid Loss: 0.9910\n",
      "Epoch [10/10], Step [1330/1410], Train Loss: 0.0231, Valid Loss: 1.0135\n",
      "Epoch [10/10], Step [1400/1410], Train Loss: 0.0267, Valid Loss: 1.1094\n",
      "Model saved to ==> ./none_metrics.pt\n",
      "Finished Training!\n",
      "Epoch [1/10], Step [70/1410], Train Loss: 0.4579, Valid Loss: 0.2311\n",
      "Model saved to ==> ./violent_model.pt\n",
      "Model saved to ==> ./violent_metrics.pt\n",
      "Epoch [1/10], Step [140/1410], Train Loss: 0.2305, Valid Loss: 0.2175\n",
      "Model saved to ==> ./violent_model.pt\n",
      "Model saved to ==> ./violent_metrics.pt\n",
      "Epoch [2/10], Step [210/1410], Train Loss: 0.2029, Valid Loss: 0.2123\n",
      "Model saved to ==> ./violent_model.pt\n",
      "Model saved to ==> ./violent_metrics.pt\n",
      "Epoch [2/10], Step [280/1410], Train Loss: 0.2081, Valid Loss: 0.2110\n",
      "Model saved to ==> ./violent_model.pt\n",
      "Model saved to ==> ./violent_metrics.pt\n",
      "Epoch [3/10], Step [350/1410], Train Loss: 0.1850, Valid Loss: 0.2137\n",
      "Epoch [3/10], Step [420/1410], Train Loss: 0.1907, Valid Loss: 0.2163\n",
      "Epoch [4/10], Step [490/1410], Train Loss: 0.1654, Valid Loss: 0.2246\n",
      "Epoch [4/10], Step [560/1410], Train Loss: 0.1699, Valid Loss: 0.2270\n",
      "Epoch [5/10], Step [630/1410], Train Loss: 0.1357, Valid Loss: 0.2523\n",
      "Epoch [5/10], Step [700/1410], Train Loss: 0.1436, Valid Loss: 0.2554\n",
      "Epoch [6/10], Step [770/1410], Train Loss: 0.1165, Valid Loss: 0.2706\n",
      "Epoch [6/10], Step [840/1410], Train Loss: 0.1089, Valid Loss: 0.2791\n",
      "Epoch [7/10], Step [910/1410], Train Loss: 0.0726, Valid Loss: 0.3094\n",
      "Epoch [7/10], Step [980/1410], Train Loss: 0.0800, Valid Loss: 0.3109\n",
      "Epoch [8/10], Step [1050/1410], Train Loss: 0.0481, Valid Loss: 0.3507\n",
      "Epoch [8/10], Step [1120/1410], Train Loss: 0.0497, Valid Loss: 0.3647\n",
      "Epoch [9/10], Step [1190/1410], Train Loss: 0.0283, Valid Loss: 0.3993\n",
      "Epoch [9/10], Step [1260/1410], Train Loss: 0.0220, Valid Loss: 0.4651\n",
      "Epoch [10/10], Step [1330/1410], Train Loss: 0.0159, Valid Loss: 0.4506\n",
      "Epoch [10/10], Step [1400/1410], Train Loss: 0.0129, Valid Loss: 0.4982\n",
      "Model saved to ==> ./violent_metrics.pt\n",
      "Finished Training!\n",
      "Epoch [1/10], Step [70/1410], Train Loss: 1.2385, Valid Loss: 0.6511\n",
      "Model saved to ==> ./blame_model.pt\n",
      "Model saved to ==> ./blame_metrics.pt\n",
      "Epoch [1/10], Step [140/1410], Train Loss: 0.6484, Valid Loss: 0.6380\n",
      "Model saved to ==> ./blame_model.pt\n",
      "Model saved to ==> ./blame_metrics.pt\n",
      "Epoch [2/10], Step [210/1410], Train Loss: 0.5730, Valid Loss: 0.6305\n",
      "Model saved to ==> ./blame_model.pt\n",
      "Model saved to ==> ./blame_metrics.pt\n",
      "Epoch [2/10], Step [280/1410], Train Loss: 0.5702, Valid Loss: 0.6300\n",
      "Model saved to ==> ./blame_model.pt\n",
      "Model saved to ==> ./blame_metrics.pt\n",
      "Epoch [3/10], Step [350/1410], Train Loss: 0.5022, Valid Loss: 0.6437\n",
      "Epoch [3/10], Step [420/1410], Train Loss: 0.4926, Valid Loss: 0.6550\n",
      "Epoch [4/10], Step [490/1410], Train Loss: 0.4317, Valid Loss: 0.6717\n",
      "Epoch [4/10], Step [560/1410], Train Loss: 0.4212, Valid Loss: 0.6791\n",
      "Epoch [5/10], Step [630/1410], Train Loss: 0.3569, Valid Loss: 0.7287\n",
      "Epoch [5/10], Step [700/1410], Train Loss: 0.3449, Valid Loss: 0.7439\n",
      "Epoch [6/10], Step [770/1410], Train Loss: 0.2907, Valid Loss: 0.8069\n",
      "Epoch [6/10], Step [840/1410], Train Loss: 0.2661, Valid Loss: 0.8474\n",
      "Epoch [7/10], Step [910/1410], Train Loss: 0.2022, Valid Loss: 0.9616\n",
      "Epoch [7/10], Step [980/1410], Train Loss: 0.2128, Valid Loss: 0.8866\n",
      "Epoch [8/10], Step [1050/1410], Train Loss: 0.1514, Valid Loss: 1.0448\n",
      "Epoch [8/10], Step [1120/1410], Train Loss: 0.1438, Valid Loss: 1.0759\n",
      "Epoch [9/10], Step [1190/1410], Train Loss: 0.1192, Valid Loss: 1.1028\n",
      "Epoch [9/10], Step [1260/1410], Train Loss: 0.1178, Valid Loss: 1.3280\n",
      "Epoch [10/10], Step [1330/1410], Train Loss: 0.1041, Valid Loss: 1.3583\n",
      "Epoch [10/10], Step [1400/1410], Train Loss: 0.0729, Valid Loss: 1.4423\n",
      "Model saved to ==> ./blame_metrics.pt\n",
      "Finished Training!\n",
      "Epoch [1/10], Step [70/1410], Train Loss: 0.3769, Valid Loss: 0.1340\n",
      "Model saved to ==> ./curse_model.pt\n",
      "Model saved to ==> ./curse_metrics.pt\n",
      "Epoch [1/10], Step [140/1410], Train Loss: 0.1475, Valid Loss: 0.1199\n",
      "Model saved to ==> ./curse_model.pt\n",
      "Model saved to ==> ./curse_metrics.pt\n",
      "Epoch [2/10], Step [210/1410], Train Loss: 0.1053, Valid Loss: 0.1191\n",
      "Model saved to ==> ./curse_model.pt\n",
      "Model saved to ==> ./curse_metrics.pt\n",
      "Epoch [2/10], Step [280/1410], Train Loss: 0.1099, Valid Loss: 0.1158\n",
      "Model saved to ==> ./curse_model.pt\n",
      "Model saved to ==> ./curse_metrics.pt\n",
      "Epoch [3/10], Step [350/1410], Train Loss: 0.0926, Valid Loss: 0.1192\n",
      "Epoch [3/10], Step [420/1410], Train Loss: 0.0789, Valid Loss: 0.1239\n",
      "Epoch [4/10], Step [490/1410], Train Loss: 0.0803, Valid Loss: 0.1254\n",
      "Epoch [4/10], Step [560/1410], Train Loss: 0.0749, Valid Loss: 0.1280\n",
      "Epoch [5/10], Step [630/1410], Train Loss: 0.0582, Valid Loss: 0.1348\n",
      "Epoch [5/10], Step [700/1410], Train Loss: 0.0579, Valid Loss: 0.1381\n",
      "Epoch [6/10], Step [770/1410], Train Loss: 0.0419, Valid Loss: 0.1465\n",
      "Epoch [6/10], Step [840/1410], Train Loss: 0.0422, Valid Loss: 0.1510\n",
      "Epoch [7/10], Step [910/1410], Train Loss: 0.0281, Valid Loss: 0.1629\n",
      "Epoch [7/10], Step [980/1410], Train Loss: 0.0310, Valid Loss: 0.1692\n",
      "Epoch [8/10], Step [1050/1410], Train Loss: 0.0185, Valid Loss: 0.1755\n",
      "Epoch [8/10], Step [1120/1410], Train Loss: 0.0190, Valid Loss: 0.1887\n",
      "Epoch [9/10], Step [1190/1410], Train Loss: 0.0121, Valid Loss: 0.1925\n",
      "Epoch [9/10], Step [1260/1410], Train Loss: 0.0111, Valid Loss: 0.1978\n",
      "Epoch [10/10], Step [1330/1410], Train Loss: 0.0107, Valid Loss: 0.1962\n",
      "Epoch [10/10], Step [1400/1410], Train Loss: 0.0089, Valid Loss: 0.2032\n",
      "Model saved to ==> ./curse_metrics.pt\n",
      "Finished Training!\n",
      "Epoch [1/10], Step [70/1410], Train Loss: 0.1936, Valid Loss: 0.1070\n",
      "Model saved to ==> ./discrimination_model.pt\n",
      "Model saved to ==> ./discrimination_metrics.pt\n",
      "Epoch [1/10], Step [140/1410], Train Loss: 0.1354, Valid Loss: 0.0992\n",
      "Model saved to ==> ./discrimination_model.pt\n",
      "Model saved to ==> ./discrimination_metrics.pt\n",
      "Epoch [2/10], Step [210/1410], Train Loss: 0.1013, Valid Loss: 0.1007\n",
      "Epoch [2/10], Step [280/1410], Train Loss: 0.1085, Valid Loss: 0.1026\n",
      "Epoch [3/10], Step [350/1410], Train Loss: 0.0872, Valid Loss: 0.1058\n",
      "Epoch [3/10], Step [420/1410], Train Loss: 0.0907, Valid Loss: 0.1107\n",
      "Epoch [4/10], Step [490/1410], Train Loss: 0.0680, Valid Loss: 0.1115\n",
      "Epoch [4/10], Step [560/1410], Train Loss: 0.0710, Valid Loss: 0.1136\n",
      "Epoch [5/10], Step [630/1410], Train Loss: 0.0486, Valid Loss: 0.1166\n",
      "Epoch [5/10], Step [700/1410], Train Loss: 0.0465, Valid Loss: 0.1288\n",
      "Epoch [6/10], Step [770/1410], Train Loss: 0.0318, Valid Loss: 0.1357\n",
      "Epoch [6/10], Step [840/1410], Train Loss: 0.0263, Valid Loss: 0.1416\n",
      "Epoch [7/10], Step [910/1410], Train Loss: 0.0160, Valid Loss: 0.1400\n",
      "Epoch [7/10], Step [980/1410], Train Loss: 0.0154, Valid Loss: 0.1551\n",
      "Epoch [8/10], Step [1050/1410], Train Loss: 0.0101, Valid Loss: 0.1619\n",
      "Epoch [8/10], Step [1120/1410], Train Loss: 0.0079, Valid Loss: 0.1670\n",
      "Epoch [9/10], Step [1190/1410], Train Loss: 0.0046, Valid Loss: 0.1830\n",
      "Epoch [9/10], Step [1260/1410], Train Loss: 0.0048, Valid Loss: 0.1833\n",
      "Epoch [10/10], Step [1330/1410], Train Loss: 0.0029, Valid Loss: 0.1839\n",
      "Epoch [10/10], Step [1400/1410], Train Loss: 0.0035, Valid Loss: 0.1906\n",
      "Model saved to ==> ./discrimination_metrics.pt\n",
      "Finished Training!\n"
     ]
    }
   ],
   "source": [
    "# Training Function\n",
    "\n",
    "def train(model,\n",
    "          optimizer,\n",
    "          criterion = nn.BCELoss(),\n",
    "          train_loader = train_iter,\n",
    "          valid_loader = valid_iter,\n",
    "          num_epochs = 5,\n",
    "          eval_every = len(train_iter) // 2,\n",
    "          file_path = '.',\n",
    "          best_valid_loss = float(\"Inf\"),\n",
    "          category_num=0\n",
    "          ):\n",
    "    \n",
    "    # initialize running values\n",
    "    running_loss = 0.0\n",
    "    valid_running_loss = 0.0\n",
    "    global_step = 0\n",
    "    train_loss_list = []\n",
    "    valid_loss_list = []\n",
    "    global_steps_list = []\n",
    "    ctg = ['crime', 'hate', 'sexual', 'none','violent','blame','curse','discrimination']\n",
    "    \n",
    "    # training loop\n",
    "    model.train()\n",
    "    for epoch in range(num_epochs):\n",
    "        for (i,(text, text_len),crime, hate, sexual, none,violent,blame,curse,discrimination),_ in train_loader:\n",
    "        #for (i,(text,text_len),labels),_ in train_loader:\n",
    "                categories = [crime, hate, sexual, none,violent,blame,curse,discrimination]\n",
    "                labels = categories[category_num].to(device)\n",
    "                labels = labels.to(device)\n",
    "                output = model(text, text_len)\n",
    "\n",
    "                loss = criterion(output, labels)\n",
    "                optimizer.zero_grad()\n",
    "                loss.backward()\n",
    "                optimizer.step()\n",
    "\n",
    "                # update running values\n",
    "                running_loss += loss.item()\n",
    "                global_step += 1\n",
    "\n",
    "                # evaluation step\n",
    "                if global_step % eval_every == 0:\n",
    "                    model.eval()\n",
    "                    with torch.no_grad():                    \n",
    "                      # validation loop\n",
    "\n",
    "                        for (i,(text, text_len),crime, hate, sexual, none,violent,blame,curse,discrimination),_ in valid_loader:\n",
    "                        #for (i,(text,text_len),labels),_ in train_loader:\n",
    "                            v_cat = [crime, hate, sexual, none,violent,blame,curse,discrimination]\n",
    "                            labels = v_cat[category_num].to(device)\n",
    "                            #labels = labels.to(device)\n",
    "                            output = model(text, text_len)\n",
    "                            loss = criterion(output, labels)\n",
    "                            valid_running_loss += loss.item()\n",
    "\n",
    "                    # evaluation\n",
    "                    average_train_loss = running_loss / eval_every\n",
    "                    average_valid_loss = valid_running_loss / len(valid_loader)\n",
    "                    train_loss_list.append(average_train_loss)\n",
    "                    valid_loss_list.append(average_valid_loss)\n",
    "                    global_steps_list.append(global_step)\n",
    "\n",
    "                    # resetting running values\n",
    "                    running_loss = 0.0                \n",
    "                    valid_running_loss = 0.0\n",
    "                    model.train()\n",
    "\n",
    "                    # print progress\n",
    "                    print('Epoch [{}/{}], Step [{}/{}], Train Loss: {:.4f}, Valid Loss: {:.4f}'\n",
    "                          .format(epoch+1, num_epochs, global_step, num_epochs*len(train_loader),\n",
    "                                  average_train_loss, average_valid_loss))\n",
    "\n",
    "                    # checkpoint\n",
    "                    if best_valid_loss > average_valid_loss:\n",
    "                        best_valid_loss = average_valid_loss\n",
    "                        save_checkpoint(file_path +'/'+str(ctg[category_num])+ '_model.pt', model, optimizer, best_valid_loss)\n",
    "                        save_metrics(file_path +'/'+str(ctg[category_num]) + '_metrics.pt', train_loss_list, valid_loss_list, global_steps_list)\n",
    "\n",
    "    save_metrics(file_path +'/'+str(ctg[category_num]) + '_metrics.pt', train_loss_list, valid_loss_list, global_steps_list)\n",
    "    print('Finished Training!')\n",
    "\n",
    "\n",
    "model = LSTM().to(device)\n",
    "optimizer = optim.Adam(model.parameters(), lr=0.001)\n",
    "\n",
    "for i in range(8):\n",
    "    train(model=model, optimizer=optimizer, num_epochs=10,category_num=i)\n"
   ]
  },
  {
   "cell_type": "code",
   "execution_count": 39,
   "id": "95e37f17",
   "metadata": {},
   "outputs": [
    {
     "data": {
      "text/plain": [
       "14137"
      ]
     },
     "execution_count": 39,
     "metadata": {},
     "output_type": "execute_result"
    }
   ],
   "source": [
    "text_field.vocab['부산출신']"
   ]
  },
  {
   "cell_type": "code",
   "execution_count": 40,
   "id": "b935f8ab",
   "metadata": {
    "tags": []
   },
   "outputs": [
    {
     "name": "stdout",
     "output_type": "stream",
     "text": [
      "Model loaded from <== ./crime_metrics.pt\n"
     ]
    },
    {
     "data": {
      "image/png": "[encoded data removed]",
      "text/plain": [
       "<Figure size 432x288 with 1 Axes>"
      ]
     },
     "metadata": {
      "needs_background": "light"
     },
     "output_type": "display_data"
    },
    {
     "name": "stdout",
     "output_type": "stream",
     "text": [
      "Model loaded from <== ./hate_metrics.pt\n"
     ]
    },
    {
     "data": {
      "image/png": "[encoded data removed]",
      "text/plain": [
       "<Figure size 432x288 with 1 Axes>"
      ]
     },
     "metadata": {
      "needs_background": "light"
     },
     "output_type": "display_data"
    },
    {
     "name": "stdout",
     "output_type": "stream",
     "text": [
      "Model loaded from <== ./sexual_metrics.pt\n"
     ]
    },
    {
     "data": {
      "image/png": "[encoded data removed]",
      "text/plain": [
       "<Figure size 432x288 with 1 Axes>"
      ]
     },
     "metadata": {
      "needs_background": "light"
     },
     "output_type": "display_data"
    },
    {
     "name": "stdout",
     "output_type": "stream",
     "text": [
      "Model loaded from <== ./none_metrics.pt\n"
     ]
    },
    {
     "data": {
      "image/png": "[encoded data removed]",
      "text/plain": [
       "<Figure size 432x288 with 1 Axes>"
      ]
     },
     "metadata": {
      "needs_background": "light"
     },
     "output_type": "display_data"
    },
    {
     "name": "stdout",
     "output_type": "stream",
     "text": [
      "Model loaded from <== ./violent_metrics.pt\n"
     ]
    },
    {
     "data": {
      "image/png": "[encoded data removed]",
      "text/plain": [
       "<Figure size 432x288 with 1 Axes>"
      ]
     },
     "metadata": {
      "needs_background": "light"
     },
     "output_type": "display_data"
    },
    {
     "name": "stdout",
     "output_type": "stream",
     "text": [
      "Model loaded from <== ./blame_metrics.pt\n"
     ]
    },
    {
     "data": {
      "image/png": "[encoded data removed]",
      "text/plain": [
       "<Figure size 432x288 with 1 Axes>"
      ]
     },
     "metadata": {
      "needs_background": "light"
     },
     "output_type": "display_data"
    },
    {
     "name": "stdout",
     "output_type": "stream",
     "text": [
      "Model loaded from <== ./curse_metrics.pt\n"
     ]
    },
    {
     "data": {
      "image/png": "[encoded data removed]",
      "text/plain": [
       "<Figure size 432x288 with 1 Axes>"
      ]
     },
     "metadata": {
      "needs_background": "light"
     },
     "output_type": "display_data"
    },
    {
     "name": "stdout",
     "output_type": "stream",
     "text": [
      "Model loaded from <== ./discrimination_metrics.pt\n"
     ]
    },
    {
     "data": {
      "image/png": "[encoded data removed]",
      "text/plain": [
       "<Figure size 432x288 with 1 Axes>"
      ]
     },
     "metadata": {
      "needs_background": "light"
     },
     "output_type": "display_data"
    }
   ],
   "source": [
    "ctg = ['crime', 'hate', 'sexual', 'none','violent','blame','curse','discrimination']    \n",
    "for i in range(8):\n",
    "    train_loss_list, valid_loss_list, global_steps_list = load_metrics('./'+str(ctg[i])+'_' + 'metrics.pt')\n",
    "    plt.plot(global_steps_list, train_loss_list, label='Train')\n",
    "    plt.plot(global_steps_list, valid_loss_list, label='Valid')\n",
    "    plt.xlabel('Global Steps')\n",
    "    plt.ylabel('Loss')\n",
    "    plt.legend()\n",
    "    plt.show() "
   ]
  },
  {
   "cell_type": "code",
   "execution_count": 41,
   "id": "d94ec480",
   "metadata": {},
   "outputs": [],
   "source": [
    "pd.DataFrame([0]*1038).to_csv('./result.csv',index=False)"
   ]
  },
  {
   "cell_type": "code",
   "execution_count": 42,
   "id": "4893898a",
   "metadata": {
    "tags": []
   },
   "outputs": [
    {
     "name": "stdout",
     "output_type": "stream",
     "text": [
      "Model loaded from <== ./crime_model.pt\n",
      "Classification Report:\n",
      "              precision    recall  f1-score   support\n",
      "\n",
      "           1     0.0000    0.0000    0.0000        10\n",
      "           0     0.9904    1.0000    0.9952      1028\n",
      "\n",
      "    accuracy                         0.9904      1038\n",
      "   macro avg     0.4952    0.5000    0.4976      1038\n",
      "weighted avg     0.9808    0.9904    0.9856      1038\n",
      "\n"
     ]
    },
    {
     "name": "stderr",
     "output_type": "stream",
     "text": [
      "/opt/conda/envs/lightweight/lib/python3.7/site-packages/sklearn/metrics/_classification.py:1248: UndefinedMetricWarning: Precision and F-score are ill-defined and being set to 0.0 in labels with no predicted samples. Use `zero_division` parameter to control this behavior.\n",
      "  _warn_prf(average, modifier, msg_start, len(result))\n",
      "/opt/conda/envs/lightweight/lib/python3.7/site-packages/sklearn/metrics/_classification.py:1248: UndefinedMetricWarning: Precision and F-score are ill-defined and being set to 0.0 in labels with no predicted samples. Use `zero_division` parameter to control this behavior.\n",
      "  _warn_prf(average, modifier, msg_start, len(result))\n",
      "/opt/conda/envs/lightweight/lib/python3.7/site-packages/sklearn/metrics/_classification.py:1248: UndefinedMetricWarning: Precision and F-score are ill-defined and being set to 0.0 in labels with no predicted samples. Use `zero_division` parameter to control this behavior.\n",
      "  _warn_prf(average, modifier, msg_start, len(result))\n"
     ]
    },
    {
     "data": {
      "image/png": "[encoded data removed]",
      "text/plain": [
       "<Figure size 432x288 with 2 Axes>"
      ]
     },
     "metadata": {
      "needs_background": "light"
     },
     "output_type": "display_data"
    },
    {
     "name": "stdout",
     "output_type": "stream",
     "text": [
      "Model loaded from <== ./hate_model.pt\n",
      "Classification Report:\n",
      "              precision    recall  f1-score   support\n",
      "\n",
      "           1     0.1111    0.0079    0.0148       126\n",
      "           0     0.8785    0.9912    0.9315       912\n",
      "\n",
      "    accuracy                         0.8719      1038\n",
      "   macro avg     0.4948    0.4996    0.4731      1038\n",
      "weighted avg     0.7854    0.8719    0.8202      1038\n",
      "\n"
     ]
    },
    {
     "data": {
      "image/png": "[encoded data removed]",
      "text/plain": [
       "<Figure size 432x288 with 2 Axes>"
      ]
     },
     "metadata": {
      "needs_background": "light"
     },
     "output_type": "display_data"
    },
    {
     "name": "stdout",
     "output_type": "stream",
     "text": [
      "Model loaded from <== ./sexual_model.pt\n",
      "Classification Report:\n",
      "              precision    recall  f1-score   support\n",
      "\n",
      "           1     0.0000    0.0000    0.0000        49\n",
      "           0     0.9528    1.0000    0.9758       989\n",
      "\n",
      "    accuracy                         0.9528      1038\n",
      "   macro avg     0.4764    0.5000    0.4879      1038\n",
      "weighted avg     0.9078    0.9528    0.9298      1038\n",
      "\n"
     ]
    },
    {
     "name": "stderr",
     "output_type": "stream",
     "text": [
      "/opt/conda/envs/lightweight/lib/python3.7/site-packages/sklearn/metrics/_classification.py:1248: UndefinedMetricWarning: Precision and F-score are ill-defined and being set to 0.0 in labels with no predicted samples. Use `zero_division` parameter to control this behavior.\n",
      "  _warn_prf(average, modifier, msg_start, len(result))\n",
      "/opt/conda/envs/lightweight/lib/python3.7/site-packages/sklearn/metrics/_classification.py:1248: UndefinedMetricWarning: Precision and F-score are ill-defined and being set to 0.0 in labels with no predicted samples. Use `zero_division` parameter to control this behavior.\n",
      "  _warn_prf(average, modifier, msg_start, len(result))\n",
      "/opt/conda/envs/lightweight/lib/python3.7/site-packages/sklearn/metrics/_classification.py:1248: UndefinedMetricWarning: Precision and F-score are ill-defined and being set to 0.0 in labels with no predicted samples. Use `zero_division` parameter to control this behavior.\n",
      "  _warn_prf(average, modifier, msg_start, len(result))\n"
     ]
    },
    {
     "data": {
      "image/png": "[encoded data removed]",
      "text/plain": [
       "<Figure size 432x288 with 2 Axes>"
      ]
     },
     "metadata": {
      "needs_background": "light"
     },
     "output_type": "display_data"
    },
    {
     "name": "stdout",
     "output_type": "stream",
     "text": [
      "Model loaded from <== ./none_model.pt\n",
      "Classification Report:\n",
      "              precision    recall  f1-score   support\n",
      "\n",
      "           1     0.8690    0.1086    0.1931       672\n",
      "           0     0.3721    0.9699    0.5379       366\n",
      "\n",
      "    accuracy                         0.4123      1038\n",
      "   macro avg     0.6206    0.5393    0.3655      1038\n",
      "weighted avg     0.6938    0.4123    0.3147      1038\n",
      "\n"
     ]
    },
    {
     "data": {
      "image/png": "[encoded data removed]",
      "text/plain": [
       "<Figure size 432x288 with 2 Axes>"
      ]
     },
     "metadata": {
      "needs_background": "light"
     },
     "output_type": "display_data"
    },
    {
     "name": "stdout",
     "output_type": "stream",
     "text": [
      "Model loaded from <== ./violent_model.pt\n",
      "Classification Report:\n",
      "              precision    recall  f1-score   support\n",
      "\n",
      "           1     0.0000    0.0000    0.0000        40\n",
      "           0     0.9615    1.0000    0.9804       998\n",
      "\n",
      "    accuracy                         0.9615      1038\n",
      "   macro avg     0.4807    0.5000    0.4902      1038\n",
      "weighted avg     0.9244    0.9615    0.9426      1038\n",
      "\n"
     ]
    },
    {
     "name": "stderr",
     "output_type": "stream",
     "text": [
      "/opt/conda/envs/lightweight/lib/python3.7/site-packages/sklearn/metrics/_classification.py:1248: UndefinedMetricWarning: Precision and F-score are ill-defined and being set to 0.0 in labels with no predicted samples. Use `zero_division` parameter to control this behavior.\n",
      "  _warn_prf(average, modifier, msg_start, len(result))\n",
      "/opt/conda/envs/lightweight/lib/python3.7/site-packages/sklearn/metrics/_classification.py:1248: UndefinedMetricWarning: Precision and F-score are ill-defined and being set to 0.0 in labels with no predicted samples. Use `zero_division` parameter to control this behavior.\n",
      "  _warn_prf(average, modifier, msg_start, len(result))\n",
      "/opt/conda/envs/lightweight/lib/python3.7/site-packages/sklearn/metrics/_classification.py:1248: UndefinedMetricWarning: Precision and F-score are ill-defined and being set to 0.0 in labels with no predicted samples. Use `zero_division` parameter to control this behavior.\n",
      "  _warn_prf(average, modifier, msg_start, len(result))\n"
     ]
    },
    {
     "data": {
      "image/png": "[encoded data removed]",
      "text/plain": [
       "<Figure size 432x288 with 2 Axes>"
      ]
     },
     "metadata": {
      "needs_background": "light"
     },
     "output_type": "display_data"
    },
    {
     "name": "stdout",
     "output_type": "stream",
     "text": [
      "Model loaded from <== ./blame_model.pt\n",
      "Classification Report:\n",
      "              precision    recall  f1-score   support\n",
      "\n",
      "           1     0.3686    0.8502    0.5143       307\n",
      "           0     0.8606    0.3885    0.5353       731\n",
      "\n",
      "    accuracy                         0.5250      1038\n",
      "   macro avg     0.6146    0.6193    0.5248      1038\n",
      "weighted avg     0.7151    0.5250    0.5291      1038\n",
      "\n"
     ]
    },
    {
     "data": {
      "image/png": "[encoded data removed]",
      "text/plain": [
       "<Figure size 432x288 with 2 Axes>"
      ]
     },
     "metadata": {
      "needs_background": "light"
     },
     "output_type": "display_data"
    },
    {
     "name": "stdout",
     "output_type": "stream",
     "text": [
      "Model loaded from <== ./curse_model.pt\n",
      "Classification Report:\n",
      "              precision    recall  f1-score   support\n",
      "\n",
      "           1     0.0000    0.0000    0.0000        30\n",
      "           0     0.9711    1.0000    0.9853      1008\n",
      "\n",
      "    accuracy                         0.9711      1038\n",
      "   macro avg     0.4855    0.5000    0.4927      1038\n",
      "weighted avg     0.9430    0.9711    0.9569      1038\n",
      "\n"
     ]
    },
    {
     "name": "stderr",
     "output_type": "stream",
     "text": [
      "/opt/conda/envs/lightweight/lib/python3.7/site-packages/sklearn/metrics/_classification.py:1248: UndefinedMetricWarning: Precision and F-score are ill-defined and being set to 0.0 in labels with no predicted samples. Use `zero_division` parameter to control this behavior.\n",
      "  _warn_prf(average, modifier, msg_start, len(result))\n",
      "/opt/conda/envs/lightweight/lib/python3.7/site-packages/sklearn/metrics/_classification.py:1248: UndefinedMetricWarning: Precision and F-score are ill-defined and being set to 0.0 in labels with no predicted samples. Use `zero_division` parameter to control this behavior.\n",
      "  _warn_prf(average, modifier, msg_start, len(result))\n",
      "/opt/conda/envs/lightweight/lib/python3.7/site-packages/sklearn/metrics/_classification.py:1248: UndefinedMetricWarning: Precision and F-score are ill-defined and being set to 0.0 in labels with no predicted samples. Use `zero_division` parameter to control this behavior.\n",
      "  _warn_prf(average, modifier, msg_start, len(result))\n"
     ]
    },
    {
     "data": {
      "image/png": "[encoded data removed]",
      "text/plain": [
       "<Figure size 432x288 with 2 Axes>"
      ]
     },
     "metadata": {
      "needs_background": "light"
     },
     "output_type": "display_data"
    },
    {
     "name": "stdout",
     "output_type": "stream",
     "text": [
      "Model loaded from <== ./discrimination_model.pt\n",
      "Classification Report:\n",
      "              precision    recall  f1-score   support\n",
      "\n",
      "           1     0.0000    0.0000    0.0000         8\n",
      "           0     0.9923    1.0000    0.9961      1030\n",
      "\n",
      "    accuracy                         0.9923      1038\n",
      "   macro avg     0.4961    0.5000    0.4981      1038\n",
      "weighted avg     0.9846    0.9923    0.9885      1038\n",
      "\n"
     ]
    },
    {
     "name": "stderr",
     "output_type": "stream",
     "text": [
      "/opt/conda/envs/lightweight/lib/python3.7/site-packages/sklearn/metrics/_classification.py:1248: UndefinedMetricWarning: Precision and F-score are ill-defined and being set to 0.0 in labels with no predicted samples. Use `zero_division` parameter to control this behavior.\n",
      "  _warn_prf(average, modifier, msg_start, len(result))\n",
      "/opt/conda/envs/lightweight/lib/python3.7/site-packages/sklearn/metrics/_classification.py:1248: UndefinedMetricWarning: Precision and F-score are ill-defined and being set to 0.0 in labels with no predicted samples. Use `zero_division` parameter to control this behavior.\n",
      "  _warn_prf(average, modifier, msg_start, len(result))\n",
      "/opt/conda/envs/lightweight/lib/python3.7/site-packages/sklearn/metrics/_classification.py:1248: UndefinedMetricWarning: Precision and F-score are ill-defined and being set to 0.0 in labels with no predicted samples. Use `zero_division` parameter to control this behavior.\n",
      "  _warn_prf(average, modifier, msg_start, len(result))\n"
     ]
    },
    {
     "data": {
      "image/png": "[encoded data removed]",
      "text/plain": [
       "<Figure size 432x288 with 2 Axes>"
      ]
     },
     "metadata": {
      "needs_background": "light"
     },
     "output_type": "display_data"
    }
   ],
   "source": [
    "# Evaluation Function\n",
    "\n",
    "def evaluate(model, test_loader, version='title', threshold=0.5,category_num=0):\n",
    "    y_pred = []\n",
    "    y_true = []\n",
    "\n",
    "    model.eval()\n",
    "    with torch.no_grad():\n",
    "        for (i,(text, text_len),crime, hate, sexual, none,violent,blame,curse,discrimination),_ in test_loader:\n",
    "        #for (i,(text, text_len),labels),_ in test_loader:           \n",
    "            categories = [crime, hate, sexual, none,violent,blame,curse,discrimination]\n",
    "            labels = categories[category_num].to(device)\n",
    "            #labels = labels.to(device)\n",
    "            output = model(text, text_len)\n",
    "\n",
    "            output = (output > threshold).int()\n",
    "            y_pred.extend(output.tolist())\n",
    "            y_true.extend(labels.tolist())\n",
    "    result = pd.read_csv('./result.csv')\n",
    "    result[ctg[category_num]] = pd.DataFrame(y_pred)\n",
    "    result.to_csv('./result.csv',index=False)\n",
    "    # with open('result.csv', 'a') as f:\n",
    "    #     pd.DataFrame(y_pred).to_csv(f,header=False)\n",
    "    \n",
    "    print('Classification Report:')\n",
    "    print(classification_report(y_true, y_pred, labels=[1,0], digits=4))\n",
    "    \n",
    "    cm = confusion_matrix(y_true, y_pred, labels=[1,0])\n",
    "    ax= plt.subplot()\n",
    "    sns.heatmap(cm, annot=True, ax = ax, cmap='Blues', fmt=\"d\")\n",
    "\n",
    "    ax.set_title('Confusion Matrix')\n",
    "\n",
    "    ax.set_xlabel('Predicted Labels')\n",
    "    ax.set_ylabel('True Labels')\n",
    "\n",
    "    ax.xaxis.set_ticklabels(['O', 'X'])\n",
    "    ax.yaxis.set_ticklabels(['O', 'X'])\n",
    "    \n",
    "ctg = ['crime', 'hate', 'sexual', 'none','violent','blame','curse','discrimination']    \n",
    "best_model = LSTM().to(device)\n",
    "optimizer = optim.Adam(best_model.parameters(), lr=0.001)\n",
    "\n",
    "for i in range(8):\n",
    "    load_checkpoint('.' +'/'+str(ctg[i]) + '_model.pt', best_model, optimizer)\n",
    "    evaluate(best_model, test_iter,category_num=i)\n",
    "    plt.show()"
   ]
  },
  {
   "cell_type": "code",
   "execution_count": 43,
   "id": "7fbbaf74",
   "metadata": {},
   "outputs": [],
   "source": [
    "result = pd.read_csv('./result.csv')"
   ]
  },
  {
   "cell_type": "code",
   "execution_count": 44,
   "id": "0511bfb4",
   "metadata": {},
   "outputs": [
    {
     "data": {
      "text/plain": [
       "Index(['0', 'crime', 'hate', 'sexual', 'none', 'violent', 'blame', 'curse',\n",
       "       'discrimination'],\n",
       "      dtype='object')"
      ]
     },
     "execution_count": 44,
     "metadata": {},
     "output_type": "execute_result"
    }
   ],
   "source": [
    "result.columns"
   ]
  },
  {
   "cell_type": "code",
   "execution_count": 45,
   "id": "31ed9abd",
   "metadata": {},
   "outputs": [],
   "source": [
    "result = result[['crime', 'hate', 'sexual', 'none', 'violent', 'blame', 'curse',\n",
    "       'discrimination']]"
   ]
  },
  {
   "cell_type": "code",
   "execution_count": 46,
   "id": "351b9d7b",
   "metadata": {},
   "outputs": [],
   "source": [
    "result = np.array(result)"
   ]
  },
  {
   "cell_type": "code",
   "execution_count": 59,
   "id": "fac1bdbb",
   "metadata": {},
   "outputs": [],
   "source": [
    "y_true = pd.read_csv('./test_ml2.csv')"
   ]
  },
  {
   "cell_type": "code",
   "execution_count": 60,
   "id": "0b5743c5",
   "metadata": {},
   "outputs": [],
   "source": [
    "y_true = y_true[['범죄', '혐오', '선정', '비도덕 아님', '폭력', '비난',\n",
    "       '욕설', '차별']]"
   ]
  },
  {
   "cell_type": "code",
   "execution_count": 61,
   "id": "f0f4c747",
   "metadata": {},
   "outputs": [],
   "source": [
    "y_true = np.array(y_true)"
   ]
  },
  {
   "cell_type": "code",
   "execution_count": 62,
   "id": "9aaba668",
   "metadata": {},
   "outputs": [
    {
     "data": {
      "text/plain": [
       "array([[0, 0, 0, ..., 0, 0, 0],\n",
       "       [0, 0, 0, ..., 1, 0, 0],\n",
       "       [0, 0, 0, ..., 0, 0, 0],\n",
       "       ...,\n",
       "       [0, 0, 0, ..., 0, 0, 0],\n",
       "       [0, 0, 1, ..., 1, 0, 0],\n",
       "       [0, 0, 0, ..., 0, 0, 0]])"
      ]
     },
     "execution_count": 62,
     "metadata": {},
     "output_type": "execute_result"
    }
   ],
   "source": [
    "y_true"
   ]
  },
  {
   "cell_type": "code",
   "execution_count": 63,
   "id": "a28f0cb5",
   "metadata": {},
   "outputs": [
    {
     "data": {
      "text/plain": [
       "0.08477842003853564"
      ]
     },
     "execution_count": 63,
     "metadata": {},
     "output_type": "execute_result"
    }
   ],
   "source": [
    "cnt=0\n",
    "for i in range(len(y_true)):\n",
    "    if False not in (y_true[i]==result[i]):\n",
    "        cnt+=1\n",
    "acc = cnt/len(y_true)\n",
    "acc"
   ]
  },
  {
   "cell_type": "code",
   "execution_count": 64,
   "id": "00280066",
   "metadata": {},
   "outputs": [
    {
     "data": {
      "text/plain": [
       "0.26138032305433184"
      ]
     },
     "execution_count": 64,
     "metadata": {},
     "output_type": "execute_result"
    }
   ],
   "source": [
    "f1_score(y_true, result, average='micro')"
   ]
  },
  {
   "cell_type": "code",
   "execution_count": null,
   "id": "dbe2b73e",
   "metadata": {},
   "outputs": [],
   "source": []
  },
  {
   "cell_type": "code",
   "execution_count": null,
   "id": "cc0530ec",
   "metadata": {},
   "outputs": [],
   "source": []
  }
 ],
 "metadata": {
  "kernelspec": {
   "display_name": "Python 3",
   "language": "python",
   "name": "python3"
  },
  "language_info": {
   "codemirror_mode": {
    "name": "ipython",
    "version": 3
   },
   "file_extension": ".py",
   "mimetype": "text/x-python",
   "name": "python",
   "nbconvert_exporter": "python",
   "pygments_lexer": "ipython3",
   "version": "3.7.6"
  },
  "toc": {
   "base_numbering": 1,
   "nav_menu": {},
   "number_sections": true,
   "sideBar": true,
   "skip_h1_title": false,
   "title_cell": "Table of Contents",
   "title_sidebar": "Contents",
   "toc_cell": false,
   "toc_position": {},
   "toc_section_display": true,
   "toc_window_display": false
  }
 },
 "nbformat": 4,
 "nbformat_minor": 5
}
