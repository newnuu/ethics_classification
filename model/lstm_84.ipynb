{
 "cells": [
  {
   "cell_type": "markdown",
   "id": "77c9e3c4-746e-4008-b8ce-a9b0b86d726a",
   "metadata": {},
   "source": [
    "Pytorch를 사용한 LSTM 텍스트 분류<br>\n",
    "https://ichi.pro/ko/pytorchleul-sayonghan-lstm-tegseuteu-bunlyu-48844070948800"
   ]
  },
  {
   "cell_type": "code",
   "execution_count": 1,
   "id": "090055ed-d3af-48d1-bef0-8c8ce6c5d132",
   "metadata": {},
   "outputs": [
    {
     "ename": "ModuleNotFoundError",
     "evalue": "No module named 'torchtext.legacy'",
     "output_type": "error",
     "traceback": [
      "\u001b[0;31m---------------------------------------------------------------------------\u001b[0m",
      "\u001b[0;31mModuleNotFoundError\u001b[0m                       Traceback (most recent call last)",
      "\u001b[0;32m/tmp/ipykernel_13599/2253750005.py\u001b[0m in \u001b[0;36m<module>\u001b[0;34m\u001b[0m\n\u001b[1;32m      5\u001b[0m \u001b[0;32mfrom\u001b[0m \u001b[0msklearn\u001b[0m\u001b[0;34m.\u001b[0m\u001b[0mmodel_selection\u001b[0m \u001b[0;32mimport\u001b[0m \u001b[0mtrain_test_split\u001b[0m\u001b[0;34m\u001b[0m\u001b[0;34m\u001b[0m\u001b[0m\n\u001b[1;32m      6\u001b[0m \u001b[0;34m\u001b[0m\u001b[0m\n\u001b[0;32m----> 7\u001b[0;31m \u001b[0;32mfrom\u001b[0m \u001b[0mtorchtext\u001b[0m\u001b[0;34m.\u001b[0m\u001b[0mlegacy\u001b[0m\u001b[0;34m.\u001b[0m\u001b[0mdata\u001b[0m \u001b[0;32mimport\u001b[0m \u001b[0mField\u001b[0m\u001b[0;34m,\u001b[0m \u001b[0mTabularDataset\u001b[0m\u001b[0;34m,\u001b[0m \u001b[0mBucketIterator\u001b[0m\u001b[0;34m\u001b[0m\u001b[0;34m\u001b[0m\u001b[0m\n\u001b[0m\u001b[1;32m      8\u001b[0m \u001b[0;34m\u001b[0m\u001b[0m\n\u001b[1;32m      9\u001b[0m \u001b[0;31m# Model\u001b[0m\u001b[0;34m\u001b[0m\u001b[0;34m\u001b[0m\u001b[0;34m\u001b[0m\u001b[0m\n",
      "\u001b[0;31mModuleNotFoundError\u001b[0m: No module named 'torchtext.legacy'"
     ]
    }
   ],
   "source": [
    "import pandas as pd\n",
    "import numpy as np\n",
    "import matplotlib.pyplot as plt\n",
    "import torch\n",
    "from sklearn.model_selection import train_test_split\n",
    "\n",
    "from torchtext.legacy.data import Field, TabularDataset, BucketIterator\n",
    "\n",
    "# Model\n",
    "import torch.nn as nn\n",
    "from torch.nn.utils.rnn import pack_padded_sequence, pad_packed_sequence\n",
    "\n",
    "#training\n",
    "import torch.optim as optim\n",
    "\n",
    "# Evaluation\n",
    "from sklearn.metrics import accuracy_score, classification_report, confusion_matrix\n",
    "import seaborn as sns"
   ]
  },
  {
   "cell_type": "code",
   "execution_count": 2,
   "id": "86a1f1e2-906a-410e-965f-e8e4cb510a2c",
   "metadata": {},
   "outputs": [],
   "source": [
    "data = pd.read_csv('./unethical_change_label.csv')"
   ]
  },
  {
   "cell_type": "code",
   "execution_count": 3,
   "id": "51068a28-1c08-4c59-ba6a-9cf4b645eb39",
   "metadata": {},
   "outputs": [
    {
     "data": {
      "text/plain": [
       "Index(['Unnamed: 0', 'Column1', 'lbl', 'sentence', 'speaker'], dtype='object')"
      ]
     },
     "execution_count": 3,
     "metadata": {},
     "output_type": "execute_result"
    }
   ],
   "source": [
    "data.columns"
   ]
  },
  {
   "cell_type": "code",
   "execution_count": 4,
   "id": "d75729a8-24cc-451d-bc01-18d5165b301b",
   "metadata": {},
   "outputs": [],
   "source": [
    "data = data[['sentence','lbl']]"
   ]
  },
  {
   "cell_type": "code",
   "execution_count": 7,
   "id": "4a295024-a848-4bf8-8173-38c1f3f186cb",
   "metadata": {},
   "outputs": [
    {
     "data": {
      "text/html": [
       "<div>\n",
       "<style scoped>\n",
       "    .dataframe tbody tr th:only-of-type {\n",
       "        vertical-align: middle;\n",
       "    }\n",
       "\n",
       "    .dataframe tbody tr th {\n",
       "        vertical-align: top;\n",
       "    }\n",
       "\n",
       "    .dataframe thead th {\n",
       "        text-align: right;\n",
       "    }\n",
       "</style>\n",
       "<table border=\"1\" class=\"dataframe\">\n",
       "  <thead>\n",
       "    <tr style=\"text-align: right;\">\n",
       "      <th></th>\n",
       "      <th>sentence</th>\n",
       "      <th>label</th>\n",
       "    </tr>\n",
       "  </thead>\n",
       "  <tbody>\n",
       "    <tr>\n",
       "      <td>0</td>\n",
       "      <td>틀딱 할저씨들 왜케 낮에 술마시고 쳐돌아다님?</td>\n",
       "      <td>비난,혐오</td>\n",
       "    </tr>\n",
       "    <tr>\n",
       "      <td>1</td>\n",
       "      <td>술쳐마셨으면 한강가서 재기나 하지</td>\n",
       "      <td>비난,폭력,혐오</td>\n",
       "    </tr>\n",
       "    <tr>\n",
       "      <td>2</td>\n",
       "      <td>한순간이라도 맨정신이면 버티기 힘든 인생이라 그런가봄</td>\n",
       "      <td>비난</td>\n",
       "    </tr>\n",
       "    <tr>\n",
       "      <td>3</td>\n",
       "      <td>한남들 _케 앞 안보고 다니냐 진짜 비켜주는 사람을 본적이 없음</td>\n",
       "      <td>비난,혐오</td>\n",
       "    </tr>\n",
       "    <tr>\n",
       "      <td>4</td>\n",
       "      <td>기본 사회 매너가 진짜 없는 듯 희한함</td>\n",
       "      <td>비도덕 아님</td>\n",
       "    </tr>\n",
       "    <tr>\n",
       "      <td>...</td>\n",
       "      <td>...</td>\n",
       "      <td>...</td>\n",
       "    </tr>\n",
       "    <tr>\n",
       "      <td>9968</td>\n",
       "      <td>아픈건 알겠는데 왜 옆사람 신경쓰이게 징징거리냐</td>\n",
       "      <td>비난</td>\n",
       "    </tr>\n",
       "    <tr>\n",
       "      <td>9969</td>\n",
       "      <td>좀 참을줄도 알지 그시기니까 예민하다 뭐다;; 그냥 성격이 파탄난거 같은데</td>\n",
       "      <td>비난,혐오</td>\n",
       "    </tr>\n",
       "    <tr>\n",
       "      <td>9970</td>\n",
       "      <td>성괴들 유튜브 진출을 막아야한다!</td>\n",
       "      <td>비난,혐오</td>\n",
       "    </tr>\n",
       "    <tr>\n",
       "      <td>9971</td>\n",
       "      <td>개나 소나 얼굴 고치고 돈 좀 쉽게 벌려고 하네</td>\n",
       "      <td>비난</td>\n",
       "    </tr>\n",
       "    <tr>\n",
       "      <td>9972</td>\n",
       "      <td>근데 고치는 것도 어느정도 본판이 되야지 어휴 쟤네는 성형하고 더 징그럽게 생겻네 ㅋㅋ</td>\n",
       "      <td>비난</td>\n",
       "    </tr>\n",
       "  </tbody>\n",
       "</table>\n",
       "<p>9973 rows × 2 columns</p>\n",
       "</div>"
      ],
      "text/plain": [
       "                                              sentence     label\n",
       "0                            틀딱 할저씨들 왜케 낮에 술마시고 쳐돌아다님?     비난,혐오\n",
       "1                                   술쳐마셨으면 한강가서 재기나 하지  비난,폭력,혐오\n",
       "2                        한순간이라도 맨정신이면 버티기 힘든 인생이라 그런가봄        비난\n",
       "3                  한남들 _케 앞 안보고 다니냐 진짜 비켜주는 사람을 본적이 없음     비난,혐오\n",
       "4                                기본 사회 매너가 진짜 없는 듯 희한함    비도덕 아님\n",
       "...                                                ...       ...\n",
       "9968                        아픈건 알겠는데 왜 옆사람 신경쓰이게 징징거리냐        비난\n",
       "9969         좀 참을줄도 알지 그시기니까 예민하다 뭐다;; 그냥 성격이 파탄난거 같은데     비난,혐오\n",
       "9970                                성괴들 유튜브 진출을 막아야한다!     비난,혐오\n",
       "9971                        개나 소나 얼굴 고치고 돈 좀 쉽게 벌려고 하네        비난\n",
       "9972  근데 고치는 것도 어느정도 본판이 되야지 어휴 쟤네는 성형하고 더 징그럽게 생겻네 ㅋㅋ        비난\n",
       "\n",
       "[9973 rows x 2 columns]"
      ]
     },
     "execution_count": 7,
     "metadata": {},
     "output_type": "execute_result"
    }
   ],
   "source": [
    "data.rename(columns={'lbl':'label'})"
   ]
  },
  {
   "cell_type": "code",
   "execution_count": 5,
   "id": "4016c3c2-3f25-494d-ab67-ac49ac9f5103",
   "metadata": {},
   "outputs": [
    {
     "data": {
      "text/html": [
       "<div>\n",
       "<style scoped>\n",
       "    .dataframe tbody tr th:only-of-type {\n",
       "        vertical-align: middle;\n",
       "    }\n",
       "\n",
       "    .dataframe tbody tr th {\n",
       "        vertical-align: top;\n",
       "    }\n",
       "\n",
       "    .dataframe thead th {\n",
       "        text-align: right;\n",
       "    }\n",
       "</style>\n",
       "<table border=\"1\" class=\"dataframe\">\n",
       "  <thead>\n",
       "    <tr style=\"text-align: right;\">\n",
       "      <th></th>\n",
       "      <th>sentence</th>\n",
       "      <th>lbl</th>\n",
       "    </tr>\n",
       "  </thead>\n",
       "  <tbody>\n",
       "    <tr>\n",
       "      <td>0</td>\n",
       "      <td>틀딱 할저씨들 왜케 낮에 술마시고 쳐돌아다님?</td>\n",
       "      <td>비난,혐오</td>\n",
       "    </tr>\n",
       "    <tr>\n",
       "      <td>1</td>\n",
       "      <td>술쳐마셨으면 한강가서 재기나 하지</td>\n",
       "      <td>비난,폭력,혐오</td>\n",
       "    </tr>\n",
       "    <tr>\n",
       "      <td>2</td>\n",
       "      <td>한순간이라도 맨정신이면 버티기 힘든 인생이라 그런가봄</td>\n",
       "      <td>비난</td>\n",
       "    </tr>\n",
       "    <tr>\n",
       "      <td>3</td>\n",
       "      <td>한남들 _케 앞 안보고 다니냐 진짜 비켜주는 사람을 본적이 없음</td>\n",
       "      <td>비난,혐오</td>\n",
       "    </tr>\n",
       "    <tr>\n",
       "      <td>4</td>\n",
       "      <td>기본 사회 매너가 진짜 없는 듯 희한함</td>\n",
       "      <td>비도덕 아님</td>\n",
       "    </tr>\n",
       "    <tr>\n",
       "      <td>...</td>\n",
       "      <td>...</td>\n",
       "      <td>...</td>\n",
       "    </tr>\n",
       "    <tr>\n",
       "      <td>9968</td>\n",
       "      <td>아픈건 알겠는데 왜 옆사람 신경쓰이게 징징거리냐</td>\n",
       "      <td>비난</td>\n",
       "    </tr>\n",
       "    <tr>\n",
       "      <td>9969</td>\n",
       "      <td>좀 참을줄도 알지 그시기니까 예민하다 뭐다;; 그냥 성격이 파탄난거 같은데</td>\n",
       "      <td>비난,혐오</td>\n",
       "    </tr>\n",
       "    <tr>\n",
       "      <td>9970</td>\n",
       "      <td>성괴들 유튜브 진출을 막아야한다!</td>\n",
       "      <td>비난,혐오</td>\n",
       "    </tr>\n",
       "    <tr>\n",
       "      <td>9971</td>\n",
       "      <td>개나 소나 얼굴 고치고 돈 좀 쉽게 벌려고 하네</td>\n",
       "      <td>비난</td>\n",
       "    </tr>\n",
       "    <tr>\n",
       "      <td>9972</td>\n",
       "      <td>근데 고치는 것도 어느정도 본판이 되야지 어휴 쟤네는 성형하고 더 징그럽게 생겻네 ㅋㅋ</td>\n",
       "      <td>비난</td>\n",
       "    </tr>\n",
       "  </tbody>\n",
       "</table>\n",
       "<p>9973 rows × 2 columns</p>\n",
       "</div>"
      ],
      "text/plain": [
       "                                              sentence       lbl\n",
       "0                            틀딱 할저씨들 왜케 낮에 술마시고 쳐돌아다님?     비난,혐오\n",
       "1                                   술쳐마셨으면 한강가서 재기나 하지  비난,폭력,혐오\n",
       "2                        한순간이라도 맨정신이면 버티기 힘든 인생이라 그런가봄        비난\n",
       "3                  한남들 _케 앞 안보고 다니냐 진짜 비켜주는 사람을 본적이 없음     비난,혐오\n",
       "4                                기본 사회 매너가 진짜 없는 듯 희한함    비도덕 아님\n",
       "...                                                ...       ...\n",
       "9968                        아픈건 알겠는데 왜 옆사람 신경쓰이게 징징거리냐        비난\n",
       "9969         좀 참을줄도 알지 그시기니까 예민하다 뭐다;; 그냥 성격이 파탄난거 같은데     비난,혐오\n",
       "9970                                성괴들 유튜브 진출을 막아야한다!     비난,혐오\n",
       "9971                        개나 소나 얼굴 고치고 돈 좀 쉽게 벌려고 하네        비난\n",
       "9972  근데 고치는 것도 어느정도 본판이 되야지 어휴 쟤네는 성형하고 더 징그럽게 생겻네 ㅋㅋ        비난\n",
       "\n",
       "[9973 rows x 2 columns]"
      ]
     },
     "execution_count": 5,
     "metadata": {},
     "output_type": "execute_result"
    }
   ],
   "source": [
    "data"
   ]
  },
  {
   "cell_type": "code",
   "execution_count": 6,
   "id": "466d5ffb-327e-425a-9924-c1ede92bb586",
   "metadata": {},
   "outputs": [
    {
     "data": {
      "text/html": [
       "<div>\n",
       "<style scoped>\n",
       "    .dataframe tbody tr th:only-of-type {\n",
       "        vertical-align: middle;\n",
       "    }\n",
       "\n",
       "    .dataframe tbody tr th {\n",
       "        vertical-align: top;\n",
       "    }\n",
       "\n",
       "    .dataframe thead th {\n",
       "        text-align: right;\n",
       "    }\n",
       "</style>\n",
       "<table border=\"1\" class=\"dataframe\">\n",
       "  <thead>\n",
       "    <tr style=\"text-align: right;\">\n",
       "      <th></th>\n",
       "      <th>lbl</th>\n",
       "      <th>sentence</th>\n",
       "    </tr>\n",
       "  </thead>\n",
       "  <tbody>\n",
       "    <tr>\n",
       "      <th>count</th>\n",
       "      <td>9973</td>\n",
       "      <td>9973</td>\n",
       "    </tr>\n",
       "    <tr>\n",
       "      <th>unique</th>\n",
       "      <td>84</td>\n",
       "      <td>9968</td>\n",
       "    </tr>\n",
       "    <tr>\n",
       "      <th>top</th>\n",
       "      <td>비난</td>\n",
       "      <td>왜 무슨 일이야?</td>\n",
       "    </tr>\n",
       "    <tr>\n",
       "      <th>freq</th>\n",
       "      <td>3235</td>\n",
       "      <td>4</td>\n",
       "    </tr>\n",
       "  </tbody>\n",
       "</table>\n",
       "</div>"
      ],
      "text/plain": [
       "         lbl   sentence\n",
       "count   9973       9973\n",
       "unique    84       9968\n",
       "top       비난  왜 무슨 일이야?\n",
       "freq    3235          4"
      ]
     },
     "execution_count": 6,
     "metadata": {},
     "output_type": "execute_result"
    }
   ],
   "source": [
    "data.describe()"
   ]
  },
  {
   "cell_type": "code",
   "execution_count": 7,
   "id": "9a30d314-3626-4887-8f1e-c657da5cb99b",
   "metadata": {},
   "outputs": [],
   "source": [
    "lblist = list(data['lbl'].unique())"
   ]
  },
  {
   "cell_type": "code",
   "execution_count": 34,
   "id": "b44ef2b7-7483-4e46-b2bd-8ca4735f0df3",
   "metadata": {},
   "outputs": [
    {
     "data": {
      "text/plain": [
       "'비난,혐오'"
      ]
     },
     "execution_count": 34,
     "metadata": {},
     "output_type": "execute_result"
    }
   ],
   "source": [
    "lblist[0]"
   ]
  },
  {
   "cell_type": "code",
   "execution_count": 8,
   "id": "88497921-8b0f-476b-9504-2d75304a78d3",
   "metadata": {},
   "outputs": [],
   "source": [
    "data['label'] = data['lbl'].apply(lambda x: lblist.index(x))"
   ]
  },
  {
   "cell_type": "code",
   "execution_count": 9,
   "id": "49972924-5cc5-469c-b182-dcd021dc2802",
   "metadata": {},
   "outputs": [],
   "source": [
    "data = data[['sentence','label']]"
   ]
  },
  {
   "cell_type": "code",
   "execution_count": 10,
   "id": "39c6d950-2957-4b84-880b-70df954cfa39",
   "metadata": {},
   "outputs": [],
   "source": [
    "train,test = train_test_split(data,train_size = 0.9)"
   ]
  },
  {
   "cell_type": "code",
   "execution_count": 11,
   "id": "15b0b25c-fb34-4359-a0ce-9c240dd39d98",
   "metadata": {},
   "outputs": [
    {
     "data": {
      "text/html": [
       "<div>\n",
       "<style scoped>\n",
       "    .dataframe tbody tr th:only-of-type {\n",
       "        vertical-align: middle;\n",
       "    }\n",
       "\n",
       "    .dataframe tbody tr th {\n",
       "        vertical-align: top;\n",
       "    }\n",
       "\n",
       "    .dataframe thead th {\n",
       "        text-align: right;\n",
       "    }\n",
       "</style>\n",
       "<table border=\"1\" class=\"dataframe\">\n",
       "  <thead>\n",
       "    <tr style=\"text-align: right;\">\n",
       "      <th></th>\n",
       "      <th>sentence</th>\n",
       "      <th>label</th>\n",
       "    </tr>\n",
       "  </thead>\n",
       "  <tbody>\n",
       "    <tr>\n",
       "      <th>7311</th>\n",
       "      <td>아비가 싸튀충이었나보네</td>\n",
       "      <td>15</td>\n",
       "    </tr>\n",
       "    <tr>\n",
       "      <th>4243</th>\n",
       "      <td>아비 봐도 양비론적 생각이 사회악이다</td>\n",
       "      <td>0</td>\n",
       "    </tr>\n",
       "    <tr>\n",
       "      <th>3066</th>\n",
       "      <td>얼굴도 못생겼고 좀 뚱뚱한거 보니까 노래 엄청 잘하나보네?</td>\n",
       "      <td>2</td>\n",
       "    </tr>\n",
       "    <tr>\n",
       "      <th>4294</th>\n",
       "      <td>한녀들 성적해방전사로 아프간 군인들꺼가 필요하긔</td>\n",
       "      <td>11</td>\n",
       "    </tr>\n",
       "    <tr>\n",
       "      <th>564</th>\n",
       "      <td>웅얼거리면서 가사 전달도 잘 안되고.. 듣기 거북함</td>\n",
       "      <td>2</td>\n",
       "    </tr>\n",
       "    <tr>\n",
       "      <th>...</th>\n",
       "      <td>...</td>\n",
       "      <td>...</td>\n",
       "    </tr>\n",
       "    <tr>\n",
       "      <th>4883</th>\n",
       "      <td>ㅋㅋㅋ 얼마나 인재가 없으면 여당에서 버리는 대로 줍줍하네 ㅋㅋㅋ</td>\n",
       "      <td>2</td>\n",
       "    </tr>\n",
       "    <tr>\n",
       "      <th>5577</th>\n",
       "      <td>발냄새때문에 공기 오염되느중..</td>\n",
       "      <td>2</td>\n",
       "    </tr>\n",
       "    <tr>\n",
       "      <th>7500</th>\n",
       "      <td>역시 한남들 수준ㅋㅋ 논리로 후달리니까 또 인신 공격하지</td>\n",
       "      <td>0</td>\n",
       "    </tr>\n",
       "    <tr>\n",
       "      <th>6793</th>\n",
       "      <td>뇌는 옵션인가?</td>\n",
       "      <td>2</td>\n",
       "    </tr>\n",
       "    <tr>\n",
       "      <th>8212</th>\n",
       "      <td>그래, 님아 그러니까 당신이 대머리인거야 ㅋㅋ</td>\n",
       "      <td>0</td>\n",
       "    </tr>\n",
       "  </tbody>\n",
       "</table>\n",
       "<p>8975 rows × 2 columns</p>\n",
       "</div>"
      ],
      "text/plain": [
       "                                  sentence  label\n",
       "7311                          아비가 싸튀충이었나보네     15\n",
       "4243                  아비 봐도 양비론적 생각이 사회악이다      0\n",
       "3066      얼굴도 못생겼고 좀 뚱뚱한거 보니까 노래 엄청 잘하나보네?      2\n",
       "4294            한녀들 성적해방전사로 아프간 군인들꺼가 필요하긔     11\n",
       "564           웅얼거리면서 가사 전달도 잘 안되고.. 듣기 거북함      2\n",
       "...                                    ...    ...\n",
       "4883  ㅋㅋㅋ 얼마나 인재가 없으면 여당에서 버리는 대로 줍줍하네 ㅋㅋㅋ      2\n",
       "5577                     발냄새때문에 공기 오염되느중..      2\n",
       "7500       역시 한남들 수준ㅋㅋ 논리로 후달리니까 또 인신 공격하지      0\n",
       "6793                              뇌는 옵션인가?      2\n",
       "8212             그래, 님아 그러니까 당신이 대머리인거야 ㅋㅋ      0\n",
       "\n",
       "[8975 rows x 2 columns]"
      ]
     },
     "execution_count": 11,
     "metadata": {},
     "output_type": "execute_result"
    }
   ],
   "source": [
    "train"
   ]
  },
  {
   "cell_type": "code",
   "execution_count": 12,
   "id": "69b53262-351d-4276-9b72-b04a8a77d700",
   "metadata": {},
   "outputs": [],
   "source": [
    "train.to_csv('./lstm_84_train.csv')"
   ]
  },
  {
   "cell_type": "code",
   "execution_count": 13,
   "id": "3c36a977-810d-4bab-b6c3-69455a2477c0",
   "metadata": {},
   "outputs": [],
   "source": [
    "test.to_csv('./lstm_84_test.csv')"
   ]
  },
  {
   "cell_type": "code",
   "execution_count": 14,
   "id": "bd5ccab1-e74b-40b1-a2f8-cdf174cdb9d3",
   "metadata": {},
   "outputs": [],
   "source": [
    "device = torch.device('cuda' if torch.cuda.is_available() else 'cpu')"
   ]
  },
  {
   "cell_type": "code",
   "execution_count": 15,
   "id": "694ffd0e-8fbe-497f-81a5-f6a16a129e6d",
   "metadata": {},
   "outputs": [],
   "source": [
    "# Fields\n",
    "id_field = Field(sequential = False,\n",
    "                 use_vocab = False) # 실제 사용은 하지 않을 예정\n",
    "label_field = Field(sequential=False, use_vocab = False,dtype=torch.long)\n",
    "text_field = Field(sequential=True,\n",
    "             use_vocab=True,\n",
    "             tokenize=str.split, lower = True, include_lengths = True, batch_first = True,dtype = torch.long)\n",
    "\n",
    "\n",
    "fields = [('id',id_field),('sentence',text_field),('labels',label_field)]\n"
   ]
  },
  {
   "cell_type": "code",
   "execution_count": 16,
   "id": "b8b15be3-f83d-4ed7-bc0d-c6df8cc31b6e",
   "metadata": {},
   "outputs": [
    {
     "data": {
      "text/html": [
       "<div>\n",
       "<style scoped>\n",
       "    .dataframe tbody tr th:only-of-type {\n",
       "        vertical-align: middle;\n",
       "    }\n",
       "\n",
       "    .dataframe tbody tr th {\n",
       "        vertical-align: top;\n",
       "    }\n",
       "\n",
       "    .dataframe thead th {\n",
       "        text-align: right;\n",
       "    }\n",
       "</style>\n",
       "<table border=\"1\" class=\"dataframe\">\n",
       "  <thead>\n",
       "    <tr style=\"text-align: right;\">\n",
       "      <th></th>\n",
       "      <th>sentence</th>\n",
       "      <th>label</th>\n",
       "    </tr>\n",
       "  </thead>\n",
       "  <tbody>\n",
       "    <tr>\n",
       "      <th>7311</th>\n",
       "      <td>아비가 싸튀충이었나보네</td>\n",
       "      <td>15</td>\n",
       "    </tr>\n",
       "    <tr>\n",
       "      <th>4243</th>\n",
       "      <td>아비 봐도 양비론적 생각이 사회악이다</td>\n",
       "      <td>0</td>\n",
       "    </tr>\n",
       "    <tr>\n",
       "      <th>3066</th>\n",
       "      <td>얼굴도 못생겼고 좀 뚱뚱한거 보니까 노래 엄청 잘하나보네?</td>\n",
       "      <td>2</td>\n",
       "    </tr>\n",
       "    <tr>\n",
       "      <th>4294</th>\n",
       "      <td>한녀들 성적해방전사로 아프간 군인들꺼가 필요하긔</td>\n",
       "      <td>11</td>\n",
       "    </tr>\n",
       "    <tr>\n",
       "      <th>564</th>\n",
       "      <td>웅얼거리면서 가사 전달도 잘 안되고.. 듣기 거북함</td>\n",
       "      <td>2</td>\n",
       "    </tr>\n",
       "    <tr>\n",
       "      <th>...</th>\n",
       "      <td>...</td>\n",
       "      <td>...</td>\n",
       "    </tr>\n",
       "    <tr>\n",
       "      <th>4883</th>\n",
       "      <td>ㅋㅋㅋ 얼마나 인재가 없으면 여당에서 버리는 대로 줍줍하네 ㅋㅋㅋ</td>\n",
       "      <td>2</td>\n",
       "    </tr>\n",
       "    <tr>\n",
       "      <th>5577</th>\n",
       "      <td>발냄새때문에 공기 오염되느중..</td>\n",
       "      <td>2</td>\n",
       "    </tr>\n",
       "    <tr>\n",
       "      <th>7500</th>\n",
       "      <td>역시 한남들 수준ㅋㅋ 논리로 후달리니까 또 인신 공격하지</td>\n",
       "      <td>0</td>\n",
       "    </tr>\n",
       "    <tr>\n",
       "      <th>6793</th>\n",
       "      <td>뇌는 옵션인가?</td>\n",
       "      <td>2</td>\n",
       "    </tr>\n",
       "    <tr>\n",
       "      <th>8212</th>\n",
       "      <td>그래, 님아 그러니까 당신이 대머리인거야 ㅋㅋ</td>\n",
       "      <td>0</td>\n",
       "    </tr>\n",
       "  </tbody>\n",
       "</table>\n",
       "<p>8975 rows × 2 columns</p>\n",
       "</div>"
      ],
      "text/plain": [
       "                                  sentence  label\n",
       "7311                          아비가 싸튀충이었나보네     15\n",
       "4243                  아비 봐도 양비론적 생각이 사회악이다      0\n",
       "3066      얼굴도 못생겼고 좀 뚱뚱한거 보니까 노래 엄청 잘하나보네?      2\n",
       "4294            한녀들 성적해방전사로 아프간 군인들꺼가 필요하긔     11\n",
       "564           웅얼거리면서 가사 전달도 잘 안되고.. 듣기 거북함      2\n",
       "...                                    ...    ...\n",
       "4883  ㅋㅋㅋ 얼마나 인재가 없으면 여당에서 버리는 대로 줍줍하네 ㅋㅋㅋ      2\n",
       "5577                     발냄새때문에 공기 오염되느중..      2\n",
       "7500       역시 한남들 수준ㅋㅋ 논리로 후달리니까 또 인신 공격하지      0\n",
       "6793                              뇌는 옵션인가?      2\n",
       "8212             그래, 님아 그러니까 당신이 대머리인거야 ㅋㅋ      0\n",
       "\n",
       "[8975 rows x 2 columns]"
      ]
     },
     "execution_count": 16,
     "metadata": {},
     "output_type": "execute_result"
    }
   ],
   "source": [
    "train"
   ]
  },
  {
   "cell_type": "code",
   "execution_count": 17,
   "id": "a3258d5b-95ec-4992-af61-51b9e44a7630",
   "metadata": {},
   "outputs": [],
   "source": [
    "# Tabular Dataset\n",
    "train,test = TabularDataset.splits(path = './', train = 'lstm_84_train.csv',test = 'lstm_84_test.csv',format = 'CSV',fields = fields, skip_header=True)\n"
   ]
  },
  {
   "cell_type": "code",
   "execution_count": 18,
   "id": "97c49cde-2ae5-439e-9fcc-d84050d3f368",
   "metadata": {},
   "outputs": [],
   "source": [
    "train_iter = BucketIterator(train, batch_size = 32, device = device, sort_key=lambda x: len(x.sentence),shuffle=True, sort_within_batch = True)\n",
    "test_iter = BucketIterator(test, batch_size = 32, device = device, sort_key=lambda x: len(x.sentence),shuffle=True, sort_within_batch = True)\n"
   ]
  },
  {
   "cell_type": "code",
   "execution_count": 19,
   "id": "506e61e5-a107-443c-8b0b-fd101f8d224a",
   "metadata": {},
   "outputs": [],
   "source": [
    "text_field.build_vocab(train)"
   ]
  },
  {
   "cell_type": "markdown",
   "id": "89dfa6e8-2fd7-4af7-91d8-e35c375c729f",
   "metadata": {},
   "source": [
    "# Model"
   ]
  },
  {
   "cell_type": "code",
   "execution_count": 20,
   "id": "eed18b2b-4de5-4578-95f8-253e9ebe14a3",
   "metadata": {},
   "outputs": [],
   "source": [
    "class LSTM(nn.Module):\n",
    "    def __init__(self,dimension=128):\n",
    "        super(LSTM,self).__init__()\n",
    "        self.embedding = nn.Embedding(len(text_field.vocab),32)\n",
    "        self.dimension = dimension\n",
    "        self.lstm = nn.LSTM(input_size = 32,hidden_size = dimension,num_layers=1,batch_first = True,bidirectional = True)\n",
    "        \n",
    "        self.drop = nn.Dropout(p=0.5)\n",
    "        \n",
    "        self.fc = nn.Linear(2*dimension,len(lblist))\n",
    "        \n",
    "    def forward(self,text,text_len):\n",
    "        text_emb = self.embedding(text)\n",
    "        packed_input = pack_padded_sequence(text_emb, text_len.cpu(), batch_first=True, enforce_sorted=False)\n",
    "        packed_output, _ = self.lstm(packed_input)\n",
    "        output, _ = pad_packed_sequence(packed_output, batch_first=True)\n",
    "\n",
    "        out_forward = output[range(len(output)), text_len - 1, :self.dimension]\n",
    "        out_reverse = output[:, 0, self.dimension:]\n",
    "        out_reduced = torch.cat((out_forward, out_reverse), 1)\n",
    "        text_fea = self.drop(out_reduced)\n",
    "\n",
    "        text_fea = self.fc(text_fea)\n",
    "        text_out = torch.squeeze(text_fea, 1)\n",
    "        \n",
    "\n",
    "        return text_out\n",
    "        "
   ]
  },
  {
   "cell_type": "code",
   "execution_count": 21,
   "id": "9f8aea32-2f0c-4690-924d-934889c7ecf4",
   "metadata": {},
   "outputs": [],
   "source": [
    "# Save and Load Functions\n",
    "\n",
    "def save_checkpoint(save_path, model, optimizer, valid_loss):\n",
    "\n",
    "    if save_path == None:\n",
    "        return\n",
    "    \n",
    "    state_dict = {'model_state_dict': model.state_dict(),\n",
    "                  'optimizer_state_dict': optimizer.state_dict(),\n",
    "                  'valid_loss': valid_loss}\n",
    "    \n",
    "    torch.save(state_dict, save_path)\n",
    "    print(f'Model saved to ==> {save_path}')\n",
    "\n",
    "\n",
    "def load_checkpoint(load_path, model, optimizer):\n",
    "\n",
    "    if load_path==None:\n",
    "        return\n",
    "    \n",
    "    state_dict = torch.load(load_path, map_location=device)\n",
    "    print(f'Model loaded from <== {load_path}')\n",
    "    \n",
    "    model.load_state_dict(state_dict['model_state_dict'])\n",
    "    optimizer.load_state_dict(state_dict['optimizer_state_dict'])\n",
    "    \n",
    "    return state_dict['valid_loss']\n",
    "\n",
    "\n",
    "def save_metrics(save_path, train_loss_list, valid_loss_list, global_steps_list):\n",
    "\n",
    "    if save_path == None:\n",
    "        return\n",
    "    \n",
    "    state_dict = {'train_loss_list': train_loss_list,\n",
    "                  'valid_loss_list': valid_loss_list,\n",
    "                  'global_steps_list': global_steps_list}\n",
    "    \n",
    "    torch.save(state_dict, save_path)\n",
    "    print(f'Model saved to ==> {save_path}')\n",
    "\n",
    "\n",
    "def load_metrics(load_path):\n",
    "\n",
    "    if load_path==None:\n",
    "        return\n",
    "    \n",
    "    state_dict = torch.load(load_path, map_location=device)\n",
    "    print(f'Model loaded from <== {load_path}')\n",
    "    \n",
    "    return state_dict['train_loss_list'], state_dict['valid_loss_list'], state_dict['global_steps_list']\n"
   ]
  },
  {
   "cell_type": "code",
   "execution_count": 35,
   "id": "c7f3f030-5948-4dfe-bb61-daa28e420a92",
   "metadata": {
    "tags": []
   },
   "outputs": [
    {
     "name": "stdout",
     "output_type": "stream",
     "text": [
      "Epoch [1/20], Step [140/5620], Train Loss: 2.6663, Valid Loss: 18.8344\n",
      "Model saved to ==> ./84_model.pt\n",
      "Model saved to ==> ./84_metrics.pt\n",
      "Epoch [2/20], Step [280/5620], Train Loss: 2.1346, Valid Loss: 18.4112\n",
      "Model saved to ==> ./84_model.pt\n",
      "Model saved to ==> ./84_metrics.pt\n",
      "Epoch [3/20], Step [420/5620], Train Loss: 2.1012, Valid Loss: 18.1207\n",
      "Model saved to ==> ./84_model.pt\n",
      "Model saved to ==> ./84_metrics.pt\n",
      "Epoch [4/20], Step [560/5620], Train Loss: 2.0436, Valid Loss: 17.7584\n",
      "Model saved to ==> ./84_model.pt\n",
      "Model saved to ==> ./84_metrics.pt\n",
      "Epoch [5/20], Step [700/5620], Train Loss: 2.0181, Valid Loss: 17.3657\n",
      "Model saved to ==> ./84_model.pt\n",
      "Model saved to ==> ./84_metrics.pt\n",
      "Epoch [6/20], Step [840/5620], Train Loss: 1.9997, Valid Loss: 17.1020\n",
      "Model saved to ==> ./84_model.pt\n",
      "Model saved to ==> ./84_metrics.pt\n",
      "Epoch [7/20], Step [980/5620], Train Loss: 1.9478, Valid Loss: 16.3325\n",
      "Model saved to ==> ./84_model.pt\n",
      "Model saved to ==> ./84_metrics.pt\n",
      "Epoch [8/20], Step [1120/5620], Train Loss: 1.8699, Valid Loss: 15.8207\n",
      "Model saved to ==> ./84_model.pt\n",
      "Model saved to ==> ./84_metrics.pt\n",
      "Epoch [9/20], Step [1260/5620], Train Loss: 1.8231, Valid Loss: 15.1091\n",
      "Model saved to ==> ./84_model.pt\n",
      "Model saved to ==> ./84_metrics.pt\n",
      "Epoch [10/20], Step [1400/5620], Train Loss: 1.7478, Valid Loss: 14.3596\n",
      "Model saved to ==> ./84_model.pt\n",
      "Model saved to ==> ./84_metrics.pt\n",
      "Epoch [11/20], Step [1540/5620], Train Loss: 1.6806, Valid Loss: 13.8880\n",
      "Model saved to ==> ./84_model.pt\n",
      "Model saved to ==> ./84_metrics.pt\n",
      "Epoch [12/20], Step [1680/5620], Train Loss: 1.6040, Valid Loss: 12.9853\n",
      "Model saved to ==> ./84_model.pt\n",
      "Model saved to ==> ./84_metrics.pt\n",
      "Epoch [13/20], Step [1820/5620], Train Loss: 1.5330, Valid Loss: 12.1362\n",
      "Model saved to ==> ./84_model.pt\n",
      "Model saved to ==> ./84_metrics.pt\n",
      "Epoch [14/20], Step [1960/5620], Train Loss: 1.4311, Valid Loss: 11.3861\n",
      "Model saved to ==> ./84_model.pt\n",
      "Model saved to ==> ./84_metrics.pt\n",
      "Epoch [15/20], Step [2100/5620], Train Loss: 1.3321, Valid Loss: 10.5971\n",
      "Model saved to ==> ./84_model.pt\n",
      "Model saved to ==> ./84_metrics.pt\n",
      "Epoch [16/20], Step [2240/5620], Train Loss: 1.2863, Valid Loss: 9.7565\n",
      "Model saved to ==> ./84_model.pt\n",
      "Model saved to ==> ./84_metrics.pt\n",
      "Epoch [17/20], Step [2380/5620], Train Loss: 1.1822, Valid Loss: 9.1533\n",
      "Model saved to ==> ./84_model.pt\n",
      "Model saved to ==> ./84_metrics.pt\n",
      "Epoch [18/20], Step [2520/5620], Train Loss: 1.1002, Valid Loss: 8.1509\n",
      "Model saved to ==> ./84_model.pt\n",
      "Model saved to ==> ./84_metrics.pt\n",
      "Epoch [19/20], Step [2660/5620], Train Loss: 1.0538, Valid Loss: 7.5623\n",
      "Model saved to ==> ./84_model.pt\n",
      "Model saved to ==> ./84_metrics.pt\n",
      "Epoch [20/20], Step [2800/5620], Train Loss: 0.9257, Valid Loss: 6.7713\n",
      "Model saved to ==> ./84_model.pt\n",
      "Model saved to ==> ./84_metrics.pt\n",
      "Model saved to ==> ./84_metrics.pt\n",
      "Finished Training!\n"
     ]
    }
   ],
   "source": [
    "# Training Function\n",
    "\n",
    "def train(model,\n",
    "          optimizer,\n",
    "          criterion = nn.CrossEntropyLoss(),\n",
    "          train_loader = train_iter,\n",
    "          valid_loader = test_iter,\n",
    "          num_epochs = 5,\n",
    "          eval_every = len(train_iter) // 2,\n",
    "          file_path = '.',\n",
    "          best_valid_loss = float(\"Inf\"),\n",
    "          ):\n",
    "    \n",
    "    # initialize running values\n",
    "    running_loss = 0.0\n",
    "    valid_running_loss = 0.0\n",
    "    global_step = 0\n",
    "    train_loss_list = []\n",
    "    valid_loss_list = []\n",
    "    global_steps_list = []\n",
    "    \n",
    "    # training loop\n",
    "    model.train()\n",
    "    for epoch in range(num_epochs):\n",
    "        for (i,(text,text_len),label),_ in train_loader:\n",
    "                labels = label.to(device)\n",
    "                output = model(text, text_len)\n",
    "\n",
    "                loss = criterion(output, labels)\n",
    "                optimizer.zero_grad()\n",
    "                loss.backward()\n",
    "                optimizer.step()\n",
    "\n",
    "                # update running values\n",
    "                running_loss += loss.item()\n",
    "                global_step += 1\n",
    "\n",
    "                # evaluation step\n",
    "                if global_step % eval_every == 0:\n",
    "                    model.eval()\n",
    "                    with torch.no_grad():                    \n",
    "                      # validation loop\n",
    "                         for (i,(text,text_len),label),_  in train_loader:\n",
    "                            labels = label.to(device)\n",
    "                            output = model(text, text_len)\n",
    "                            loss = criterion(output, labels)\n",
    "                            valid_running_loss += loss.item()\n",
    "\n",
    "                    # evaluation\n",
    "                    average_train_loss = running_loss / eval_every\n",
    "                    average_valid_loss = valid_running_loss / len(valid_loader)\n",
    "                    train_loss_list.append(average_train_loss)\n",
    "                    valid_loss_list.append(average_valid_loss)\n",
    "                    global_steps_list.append(global_step)\n",
    "\n",
    "                    # resetting running values\n",
    "                    running_loss = 0.0                \n",
    "                    valid_running_loss = 0.0\n",
    "                    model.train()\n",
    "\n",
    "                    # print progress\n",
    "                    print('Epoch [{}/{}], Step [{}/{}], Train Loss: {:.4f}, Valid Loss: {:.4f}'\n",
    "                          .format(epoch+1, num_epochs, global_step, num_epochs*len(train_loader),\n",
    "                                  average_train_loss, average_valid_loss))\n",
    "\n",
    "                    # checkpoint\n",
    "                    if best_valid_loss > average_valid_loss:\n",
    "                        best_valid_loss = average_valid_loss\n",
    "                        save_checkpoint(file_path + '/84_model.pt', model, optimizer, best_valid_loss)\n",
    "                        save_metrics(file_path + '/84_metrics.pt', train_loss_list, valid_loss_list, global_steps_list)\n",
    "\n",
    "    save_metrics(file_path + '/84_metrics.pt', train_loss_list, valid_loss_list, global_steps_list)\n",
    "    print('Finished Training!')\n",
    "\n",
    "\n",
    "model = LSTM().to(device)\n",
    "optimizer = optim.Adam(model.parameters(), lr=0.001)\n",
    "\n",
    "train(model=model, optimizer=optimizer, num_epochs=20)\n"
   ]
  },
  {
   "cell_type": "code",
   "execution_count": 36,
   "id": "c8ad1e04-b1ba-4878-a06b-ec1d4d043fee",
   "metadata": {},
   "outputs": [
    {
     "data": {
      "text/plain": [
       "14125"
      ]
     },
     "execution_count": 36,
     "metadata": {},
     "output_type": "execute_result"
    }
   ],
   "source": [
    "text_field.vocab['부산출신']"
   ]
  },
  {
   "cell_type": "code",
   "execution_count": 37,
   "id": "a48e5017-2832-47a4-8703-100f380b238a",
   "metadata": {
    "tags": []
   },
   "outputs": [
    {
     "name": "stdout",
     "output_type": "stream",
     "text": [
      "Model loaded from <== ./84_metrics.pt\n"
     ]
    },
    {
     "data": {
      "image/png": "[encoded data removed]",
      "text/plain": [
       "<Figure size 432x288 with 1 Axes>"
      ]
     },
     "metadata": {
      "needs_background": "light"
     },
     "output_type": "display_data"
    }
   ],
   "source": [
    "train_loss_list, valid_loss_list, global_steps_list = load_metrics('.' + '/84_metrics.pt')\n",
    "plt.plot(global_steps_list, train_loss_list, label='Train')\n",
    "plt.plot(global_steps_list, valid_loss_list, label='Valid')\n",
    "plt.xlabel('Global Steps')\n",
    "plt.ylabel('Loss')\n",
    "plt.legend()\n",
    "plt.show() "
   ]
  },
  {
   "cell_type": "code",
   "execution_count": 47,
   "id": "e0a957a7-702f-4ed5-8212-b36daa1c1a2e",
   "metadata": {
    "tags": []
   },
   "outputs": [
    {
     "name": "stdout",
     "output_type": "stream",
     "text": [
      "Model loaded from <== ./84_model.pt\n",
      "Classification Report:\n",
      "              precision    recall  f1-score   support\n",
      "\n",
      "           0     0.2348    0.9774    0.3786       221\n",
      "           1     0.0000    0.0000    0.0000        11\n",
      "           2     0.3421    0.0841    0.1351       309\n",
      "           3     0.0000    0.0000    0.0000       196\n",
      "           5     0.0000    0.0000    0.0000         9\n",
      "           6     0.0000    0.0000    0.0000         5\n",
      "           7     0.0000    0.0000    0.0000        69\n",
      "           8     0.0000    0.0000    0.0000         5\n",
      "           9     0.0000    0.0000    0.0000         3\n",
      "          10     0.0000    0.0000    0.0000         2\n",
      "          11     0.0000    0.0000    0.0000        15\n",
      "          12     0.0000    0.0000    0.0000        13\n",
      "          13     0.0000    0.0000    0.0000        37\n",
      "          14     0.0000    0.0000    0.0000         4\n",
      "          15     0.0000    0.0000    0.0000        14\n",
      "          18     0.0000    0.0000    0.0000        11\n",
      "          19     0.0000    0.0000    0.0000        13\n",
      "          20     0.0000    0.0000    0.0000         5\n",
      "          22     0.0000    0.0000    0.0000         3\n",
      "          23     0.0000    0.0000    0.0000         2\n",
      "          24     0.0000    0.0000    0.0000         3\n",
      "          26     0.0000    0.0000    0.0000         8\n",
      "          28     0.0000    0.0000    0.0000         5\n",
      "          29     0.0000    0.0000    0.0000         1\n",
      "          32     0.0000    0.0000    0.0000         2\n",
      "          33     0.0000    0.0000    0.0000         9\n",
      "          34     0.0000    0.0000    0.0000         1\n",
      "          35     0.0000    0.0000    0.0000         1\n",
      "          37     0.0000    0.0000    0.0000         2\n",
      "          38     0.0000    0.0000    0.0000         2\n",
      "          40     0.0000    0.0000    0.0000         2\n",
      "          44     0.0000    0.0000    0.0000         3\n",
      "          53     0.0000    0.0000    0.0000         1\n",
      "          55     0.0000    0.0000    0.0000         2\n",
      "          57     0.0000    0.0000    0.0000         2\n",
      "          59     0.0000    0.0000    0.0000         1\n",
      "          63     0.0000    0.0000    0.0000         1\n",
      "          69     0.0000    0.0000    0.0000         1\n",
      "          74     0.0000    0.0000    0.0000         1\n",
      "          76     0.0000    0.0000    0.0000         1\n",
      "          77     0.0000    0.0000    0.0000         1\n",
      "          79     0.0000    0.0000    0.0000         1\n",
      "\n",
      "    accuracy                         0.2425       998\n",
      "   macro avg     0.0137    0.0253    0.0122       998\n",
      "weighted avg     0.1579    0.2425    0.1257       998\n",
      "\n"
     ]
    },
    {
     "name": "stderr",
     "output_type": "stream",
     "text": [
      "/opt/conda/envs/lightweight/lib/python3.7/site-packages/sklearn/metrics/_classification.py:1308: UndefinedMetricWarning: Precision and F-score are ill-defined and being set to 0.0 in labels with no predicted samples. Use `zero_division` parameter to control this behavior.\n",
      "  _warn_prf(average, modifier, msg_start, len(result))\n",
      "/opt/conda/envs/lightweight/lib/python3.7/site-packages/sklearn/metrics/_classification.py:1308: UndefinedMetricWarning: Precision and F-score are ill-defined and being set to 0.0 in labels with no predicted samples. Use `zero_division` parameter to control this behavior.\n",
      "  _warn_prf(average, modifier, msg_start, len(result))\n",
      "/opt/conda/envs/lightweight/lib/python3.7/site-packages/sklearn/metrics/_classification.py:1308: UndefinedMetricWarning: Precision and F-score are ill-defined and being set to 0.0 in labels with no predicted samples. Use `zero_division` parameter to control this behavior.\n",
      "  _warn_prf(average, modifier, msg_start, len(result))\n"
     ]
    },
    {
     "data": {
      "image/png": "[encoded data removed]",
      "text/plain": [
       "<Figure size 432x288 with 2 Axes>"
      ]
     },
     "metadata": {
      "needs_background": "light"
     },
     "output_type": "display_data"
    }
   ],
   "source": [
    "# Evaluation Function\n",
    "\n",
    "def evaluate(model, test_loader, version='title', threshold=0.5,category_num=0):\n",
    "    y_pred = []\n",
    "    y_true = []\n",
    "\n",
    "    model.eval()\n",
    "    with torch.no_grad():\n",
    "        for (i,(text, text_len),labels),_ in test_loader:           \n",
    "            labels = labels.to(device)\n",
    "            output = model(text, text_len)\n",
    "\n",
    "            output = (output > threshold).int()\n",
    "            y_pred.extend(torch.argmax(output,axis = 1).tolist())\n",
    "            y_true.extend(labels.tolist())\n",
    "    \n",
    "    print('Classification Report:')\n",
    "    print(classification_report(y_true, y_pred, digits=4))\n",
    "    \n",
    "    cm = confusion_matrix(y_true, y_pred, labels=[0,2,4])\n",
    "    ax= plt.subplot()\n",
    "    sns.heatmap(cm, annot=True, ax = ax, cmap='Blues', fmt=\"d\")\n",
    "\n",
    "    ax.set_title('Confusion Matrix')\n",
    "\n",
    "    ax.set_xlabel('Predicted Labels')\n",
    "    ax.set_ylabel('True Labels')\n",
    "    # plt.figure(figsize = (1000,1000))\n",
    "    ax.xaxis.set_ticklabels([0,2,4])\n",
    "    ax.yaxis.set_ticklabels([0,2,4])\n",
    "    \n",
    "  \n",
    "best_model = LSTM().to(device)\n",
    "optimizer = optim.Adam(best_model.parameters(), lr=0.001)\n",
    "\n",
    "load_checkpoint('.' +'/84_model.pt', best_model, optimizer)\n",
    "evaluate(best_model, test_iter,category_num=i)"
   ]
  },
  {
   "cell_type": "code",
   "execution_count": null,
   "id": "831846c0-fcea-4bb2-b797-4df16388ee09",
   "metadata": {},
   "outputs": [],
   "source": []
  },
  {
   "cell_type": "code",
   "execution_count": null,
   "id": "0b4b9502-fc87-4f09-a0a7-07be88c9121d",
   "metadata": {},
   "outputs": [],
   "source": []
  }
 ],
 "metadata": {
  "kernelspec": {
   "display_name": "Python 3 (ipykernel)",
   "language": "python",
   "name": "python3"
  },
  "language_info": {
   "codemirror_mode": {
    "name": "ipython",
    "version": 3
   },
   "file_extension": ".py",
   "mimetype": "text/x-python",
   "name": "python",
   "nbconvert_exporter": "python",
   "pygments_lexer": "ipython3",
   "version": "3.7.11"
  }
 },
 "nbformat": 4,
 "nbformat_minor": 5
}
