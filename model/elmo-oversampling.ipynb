{
 "cells": [
  {
   "cell_type": "code",
   "execution_count": 1,
   "metadata": {},
   "outputs": [],
   "source": [
    "import tensorflow_hub as hub\n",
    "import tensorflow as tf\n",
    "from tensorflow import keras\n",
    "\n",
    "import urllib.request\n",
    "import pandas as pd\n",
    "import numpy as np\n",
    "from sklearn.model_selection import train_test_split"
   ]
  },
  {
   "cell_type": "code",
   "execution_count": 2,
   "metadata": {},
   "outputs": [],
   "source": [
    "from tensorflow.keras import backend as K"
   ]
  },
  {
   "cell_type": "code",
   "execution_count": 3,
   "metadata": {},
   "outputs": [
    {
     "name": "stdout",
     "output_type": "stream",
     "text": [
      "WARNING:tensorflow:From /tmp/ipykernel_56229/3947280235.py:4: The name tf.Session is deprecated. Please use tf.compat.v1.Session instead.\n",
      "\n"
     ]
    },
    {
     "name": "stderr",
     "output_type": "stream",
     "text": [
      "WARNING:tensorflow:From /tmp/ipykernel_56229/3947280235.py:4: The name tf.Session is deprecated. Please use tf.compat.v1.Session instead.\n",
      "\n"
     ]
    },
    {
     "name": "stdout",
     "output_type": "stream",
     "text": [
      "WARNING:tensorflow:From /tmp/ipykernel_56229/3947280235.py:5: The name tf.keras.backend.set_session is deprecated. Please use tf.compat.v1.keras.backend.set_session instead.\n",
      "\n"
     ]
    },
    {
     "name": "stderr",
     "output_type": "stream",
     "text": [
      "2021-12-06 10:04:30.886522: I tensorflow/stream_executor/platform/default/dso_loader.cc:44] Successfully opened dynamic library libcuda.so.1\n",
      "2021-12-06 10:04:30.902441: I tensorflow/stream_executor/cuda/cuda_gpu_executor.cc:983] successful NUMA node read from SysFS had negative value (-1), but there must be at least one NUMA node, so returning NUMA node zero\n",
      "2021-12-06 10:04:30.903342: I tensorflow/core/common_runtime/gpu/gpu_device.cc:1618] Found device 0 with properties: \n",
      "name: Tesla V100-SXM2-32GB major: 7 minor: 0 memoryClockRate(GHz): 1.53\n",
      "pciBusID: 0000:00:05.0\n",
      "2021-12-06 10:04:30.903490: W tensorflow/stream_executor/platform/default/dso_loader.cc:55] Could not load dynamic library 'libcudart.so.10.0'; dlerror: libcudart.so.10.0: cannot open shared object file: No such file or directory; LD_LIBRARY_PATH: /usr/local/nvidia/lib:/usr/local/nvidia/lib64\n",
      "2021-12-06 10:04:30.903561: W tensorflow/stream_executor/platform/default/dso_loader.cc:55] Could not load dynamic library 'libcublas.so.10.0'; dlerror: libcublas.so.10.0: cannot open shared object file: No such file or directory; LD_LIBRARY_PATH: /usr/local/nvidia/lib:/usr/local/nvidia/lib64\n",
      "2021-12-06 10:04:30.903608: W tensorflow/stream_executor/platform/default/dso_loader.cc:55] Could not load dynamic library 'libcufft.so.10.0'; dlerror: libcufft.so.10.0: cannot open shared object file: No such file or directory; LD_LIBRARY_PATH: /usr/local/nvidia/lib:/usr/local/nvidia/lib64\n",
      "2021-12-06 10:04:30.903653: W tensorflow/stream_executor/platform/default/dso_loader.cc:55] Could not load dynamic library 'libcurand.so.10.0'; dlerror: libcurand.so.10.0: cannot open shared object file: No such file or directory; LD_LIBRARY_PATH: /usr/local/nvidia/lib:/usr/local/nvidia/lib64\n",
      "2021-12-06 10:04:30.903696: W tensorflow/stream_executor/platform/default/dso_loader.cc:55] Could not load dynamic library 'libcusolver.so.10.0'; dlerror: libcusolver.so.10.0: cannot open shared object file: No such file or directory; LD_LIBRARY_PATH: /usr/local/nvidia/lib:/usr/local/nvidia/lib64\n",
      "2021-12-06 10:04:30.903741: W tensorflow/stream_executor/platform/default/dso_loader.cc:55] Could not load dynamic library 'libcusparse.so.10.0'; dlerror: libcusparse.so.10.0: cannot open shared object file: No such file or directory; LD_LIBRARY_PATH: /usr/local/nvidia/lib:/usr/local/nvidia/lib64\n",
      "2021-12-06 10:04:30.903785: W tensorflow/stream_executor/platform/default/dso_loader.cc:55] Could not load dynamic library 'libcudnn.so.7'; dlerror: libcudnn.so.7: cannot open shared object file: No such file or directory; LD_LIBRARY_PATH: /usr/local/nvidia/lib:/usr/local/nvidia/lib64\n",
      "2021-12-06 10:04:30.903793: W tensorflow/core/common_runtime/gpu/gpu_device.cc:1641] Cannot dlopen some GPU libraries. Please make sure the missing libraries mentioned above are installed properly if you would like to use GPU. Follow the guide at https://www.tensorflow.org/install/gpu for how to download and setup the required libraries for your platform.\n",
      "Skipping registering GPU devices...\n",
      "2021-12-06 10:04:30.910422: I tensorflow/core/platform/cpu_feature_guard.cc:142] Your CPU supports instructions that this TensorFlow binary was not compiled to use: AVX2 FMA\n",
      "2021-12-06 10:04:30.929460: I tensorflow/core/platform/profile_utils/cpu_utils.cc:94] CPU Frequency: 2200100000 Hz\n",
      "2021-12-06 10:04:30.936200: I tensorflow/compiler/xla/service/service.cc:168] XLA service 0x561b9afc3880 initialized for platform Host (this does not guarantee that XLA will be used). Devices:\n",
      "2021-12-06 10:04:30.936269: I tensorflow/compiler/xla/service/service.cc:176]   StreamExecutor device (0): Host, Default Version\n",
      "2021-12-06 10:04:31.051563: I tensorflow/stream_executor/cuda/cuda_gpu_executor.cc:983] successful NUMA node read from SysFS had negative value (-1), but there must be at least one NUMA node, so returning NUMA node zero\n",
      "2021-12-06 10:04:31.052567: I tensorflow/compiler/xla/service/service.cc:168] XLA service 0x561b9afbb2f0 initialized for platform CUDA (this does not guarantee that XLA will be used). Devices:\n",
      "2021-12-06 10:04:31.052606: I tensorflow/compiler/xla/service/service.cc:176]   StreamExecutor device (0): Tesla V100-SXM2-32GB, Compute Capability 7.0\n",
      "2021-12-06 10:04:31.052735: I tensorflow/core/common_runtime/gpu/gpu_device.cc:1159] Device interconnect StreamExecutor with strength 1 edge matrix:\n",
      "2021-12-06 10:04:31.052754: I tensorflow/core/common_runtime/gpu/gpu_device.cc:1165]      \n",
      "WARNING:tensorflow:From /tmp/ipykernel_56229/3947280235.py:5: The name tf.keras.backend.set_session is deprecated. Please use tf.compat.v1.keras.backend.set_session instead.\n",
      "\n"
     ]
    },
    {
     "name": "stdout",
     "output_type": "stream",
     "text": [
      "WARNING:tensorflow:From /tmp/ipykernel_56229/3947280235.py:6: The name tf.global_variables_initializer is deprecated. Please use tf.compat.v1.global_variables_initializer instead.\n",
      "\n"
     ]
    },
    {
     "name": "stderr",
     "output_type": "stream",
     "text": [
      "WARNING:tensorflow:From /tmp/ipykernel_56229/3947280235.py:6: The name tf.global_variables_initializer is deprecated. Please use tf.compat.v1.global_variables_initializer instead.\n",
      "\n"
     ]
    },
    {
     "name": "stdout",
     "output_type": "stream",
     "text": [
      "WARNING:tensorflow:From /tmp/ipykernel_56229/3947280235.py:7: The name tf.tables_initializer is deprecated. Please use tf.compat.v1.tables_initializer instead.\n",
      "\n"
     ]
    },
    {
     "name": "stderr",
     "output_type": "stream",
     "text": [
      "WARNING:tensorflow:From /tmp/ipykernel_56229/3947280235.py:7: The name tf.tables_initializer is deprecated. Please use tf.compat.v1.tables_initializer instead.\n",
      "\n"
     ]
    }
   ],
   "source": [
    "elmo = hub.Module(\"https://tfhub.dev/google/elmo/1\", trainable=True)\n",
    "# 텐서플로우 허브로부터 ELMo를 다운로드\n",
    "\n",
    "sess = tf.Session()\n",
    "K.set_session(sess)\n",
    "sess.run(tf.global_variables_initializer())\n",
    "sess.run(tf.tables_initializer())"
   ]
  },
  {
   "cell_type": "code",
   "execution_count": 4,
   "metadata": {},
   "outputs": [],
   "source": [
    "from tensorflow.keras.models import Model\n",
    "from tensorflow.keras.layers import Dense, Lambda, Input"
   ]
  },
  {
   "cell_type": "code",
   "execution_count": 5,
   "metadata": {},
   "outputs": [],
   "source": [
    "def ELMoEmbedding(x):\n",
    "    return elmo(tf.squeeze(tf.cast(x, tf.string)), as_dict=True, signature=\"default\")[\"default\"]"
   ]
  },
  {
   "cell_type": "code",
   "execution_count": 6,
   "metadata": {},
   "outputs": [],
   "source": [
    "lblist = ['범죄','혐오','선정','비도덕 아님','폭력','비난','욕설','차별']\n",
    "e_lblist = ['crime', 'hate', 'sexual', 'none', 'violent','blame', 'curse','discrimination']"
   ]
  },
  {
   "cell_type": "code",
   "execution_count": 7,
   "metadata": {},
   "outputs": [
    {
     "name": "stdout",
     "output_type": "stream",
     "text": [
      "INFO:tensorflow:Saver not created because there are no variables in the graph to restore\n"
     ]
    },
    {
     "name": "stderr",
     "output_type": "stream",
     "text": [
      "INFO:tensorflow:Saver not created because there are no variables in the graph to restore\n"
     ]
    },
    {
     "name": "stdout",
     "output_type": "stream",
     "text": [
      "WARNING:tensorflow:From /opt/conda/envs/lightweight/lib/python3.7/site-packages/tensorflow_core/python/ops/resource_variable_ops.py:1630: calling BaseResourceVariable.__init__ (from tensorflow.python.ops.resource_variable_ops) with constraint is deprecated and will be removed in a future version.\n",
      "Instructions for updating:\n",
      "If using Keras pass *_constraint arguments to layers.\n"
     ]
    },
    {
     "name": "stderr",
     "output_type": "stream",
     "text": [
      "WARNING:tensorflow:From /opt/conda/envs/lightweight/lib/python3.7/site-packages/tensorflow_core/python/ops/resource_variable_ops.py:1630: calling BaseResourceVariable.__init__ (from tensorflow.python.ops.resource_variable_ops) with constraint is deprecated and will be removed in a future version.\n",
      "Instructions for updating:\n",
      "If using Keras pass *_constraint arguments to layers.\n"
     ]
    }
   ],
   "source": [
    "input_text = Input(shape=(1,), dtype=tf.string)\n",
    "embedding_layer = Lambda(ELMoEmbedding, output_shape=(1024, ))(input_text)\n",
    "hidden_layer = Dense(256, activation='relu')(embedding_layer)\n",
    "output_layer = Dense(1, activation='sigmoid')(hidden_layer)"
   ]
  },
  {
   "cell_type": "code",
   "execution_count": 10,
   "metadata": {},
   "outputs": [
    {
     "name": "stdout",
     "output_type": "stream",
     "text": [
      "WARNING:tensorflow:From /opt/conda/envs/lightweight/lib/python3.7/site-packages/tensorflow_core/python/ops/nn_impl.py:183: where (from tensorflow.python.ops.array_ops) is deprecated and will be removed in a future version.\n",
      "Instructions for updating:\n",
      "Use tf.where in 2.0, which has the same broadcast rule as np.where\n"
     ]
    },
    {
     "name": "stderr",
     "output_type": "stream",
     "text": [
      "WARNING:tensorflow:From /opt/conda/envs/lightweight/lib/python3.7/site-packages/tensorflow_core/python/ops/nn_impl.py:183: where (from tensorflow.python.ops.array_ops) is deprecated and will be removed in a future version.\n",
      "Instructions for updating:\n",
      "Use tf.where in 2.0, which has the same broadcast rule as np.where\n"
     ]
    },
    {
     "name": "stdout",
     "output_type": "stream",
     "text": [
      "Train on 17513 samples\n",
      "Epoch 1/10\n",
      "17513/17513 [==============================] - 393s 22ms/sample - loss: 0.5152 - acc: 0.7401\n",
      "Epoch 2/10\n",
      "17513/17513 [==============================] - 403s 23ms/sample - loss: 0.2658 - acc: 0.9181\n",
      "Epoch 3/10\n",
      "17513/17513 [==============================] - 406s 23ms/sample - loss: 0.1381 - acc: 0.9657\n",
      "Epoch 4/10\n",
      "17513/17513 [==============================] - 402s 23ms/sample - loss: 0.0697 - acc: 0.9870\n",
      "Epoch 5/10\n",
      "17513/17513 [==============================] - 406s 23ms/sample - loss: 0.0401 - acc: 0.9943\n",
      "Epoch 6/10\n",
      "17513/17513 [==============================] - 401s 23ms/sample - loss: 0.0235 - acc: 0.9975\n",
      "Epoch 7/10\n",
      "17513/17513 [==============================] - 402s 23ms/sample - loss: 0.0141 - acc: 0.9991\n",
      "Epoch 8/10\n",
      "17513/17513 [==============================] - 405s 23ms/sample - loss: 0.0083 - acc: 0.9999\n",
      "Epoch 9/10\n",
      "17513/17513 [==============================] - 406s 23ms/sample - loss: 0.0065 - acc: 0.9999\n",
      "Epoch 10/10\n",
      "17513/17513 [==============================] - 406s 23ms/sample - loss: 0.0038 - acc: 1.0000\n",
      "1946/1946 [==============================] - 51s 26ms/sample - loss: 0.0224 - acc: 0.9928\n",
      "\n",
      " crime  테스트 정확도: 0.9928\n",
      "Train on 12213 samples\n",
      "Epoch 1/10\n",
      "12213/12213 [==============================] - 276s 23ms/sample - loss: 0.8432 - acc: 0.5454\n",
      "Epoch 2/10\n",
      "12213/12213 [==============================] - 278s 23ms/sample - loss: 0.6603 - acc: 0.5996\n",
      "Epoch 3/10\n",
      "12213/12213 [==============================] - 278s 23ms/sample - loss: 0.6431 - acc: 0.6247\n",
      "Epoch 4/10\n",
      "12213/12213 [==============================] - 279s 23ms/sample - loss: 0.6280 - acc: 0.6422\n",
      "Epoch 5/10\n",
      "12213/12213 [==============================] - 274s 22ms/sample - loss: 0.6178 - acc: 0.6583\n",
      "Epoch 6/10\n",
      "12213/12213 [==============================] - 277s 23ms/sample - loss: 0.6068 - acc: 0.6597\n",
      "Epoch 7/10\n",
      "12213/12213 [==============================] - 275s 23ms/sample - loss: 0.5958 - acc: 0.6742\n",
      "Epoch 8/10\n",
      "12213/12213 [==============================] - 273s 22ms/sample - loss: 0.5732 - acc: 0.6911\n",
      "Epoch 9/10\n",
      "12213/12213 [==============================] - 274s 22ms/sample - loss: 0.5646 - acc: 0.7033\n",
      "Epoch 10/10\n",
      "12213/12213 [==============================] - 275s 22ms/sample - loss: 0.5437 - acc: 0.7214\n",
      "1358/1358 [==============================] - 34s 25ms/sample - loss: 0.6173 - acc: 0.6576\n",
      "\n",
      " hate  테스트 정확도: 0.6576\n",
      "Train on 16915 samples\n",
      "Epoch 1/10\n",
      "16915/16915 [==============================] - 417s 25ms/sample - loss: 0.6710 - acc: 0.5856\n",
      "Epoch 2/10\n",
      "16915/16915 [==============================] - 415s 25ms/sample - loss: 0.5700 - acc: 0.6971\n",
      "Epoch 3/10\n",
      "16915/16915 [==============================] - 411s 24ms/sample - loss: 0.4660 - acc: 0.7898\n",
      "Epoch 4/10\n",
      "16915/16915 [==============================] - 415s 25ms/sample - loss: 0.3682 - acc: 0.8552\n",
      "Epoch 5/10\n",
      "16915/16915 [==============================] - 416s 25ms/sample - loss: 0.2841 - acc: 0.9079\n",
      "Epoch 6/10\n",
      "16915/16915 [==============================] - 414s 24ms/sample - loss: 0.2161 - acc: 0.9418\n",
      "Epoch 7/10\n",
      "16915/16915 [==============================] - 416s 25ms/sample - loss: 0.1677 - acc: 0.9602\n",
      "Epoch 8/10\n",
      "16915/16915 [==============================] - 415s 25ms/sample - loss: 0.1252 - acc: 0.9737\n",
      "Epoch 9/10\n",
      "16915/16915 [==============================] - 414s 24ms/sample - loss: 0.0910 - acc: 0.9842\n",
      "Epoch 10/10\n",
      "16915/16915 [==============================] - 414s 24ms/sample - loss: 0.0705 - acc: 0.9888\n",
      "1880/1880 [==============================] - 51s 27ms/sample - loss: 0.1112 - acc: 0.9713\n",
      "\n",
      " sexual  테스트 정확도: 0.9713\n",
      "Train on 14451 samples\n",
      "Epoch 1/10\n",
      "14451/14451 [==============================] - 323s 22ms/sample - loss: 0.8167 - acc: 0.5359\n",
      "Epoch 2/10\n",
      "14451/14451 [==============================] - 323s 22ms/sample - loss: 0.6518 - acc: 0.6195\n",
      "Epoch 3/10\n",
      "14451/14451 [==============================] - 319s 22ms/sample - loss: 0.6266 - acc: 0.6490\n",
      "Epoch 4/10\n",
      "14451/14451 [==============================] - 315s 22ms/sample - loss: 0.6046 - acc: 0.6699\n",
      "Epoch 5/10\n",
      "14451/14451 [==============================] - 321s 22ms/sample - loss: 0.5872 - acc: 0.6860\n",
      "Epoch 6/10\n",
      "14451/14451 [==============================] - 325s 22ms/sample - loss: 0.5728 - acc: 0.6966\n",
      "Epoch 7/10\n",
      "14451/14451 [==============================] - 319s 22ms/sample - loss: 0.5588 - acc: 0.7091\n",
      "Epoch 8/10\n",
      "14451/14451 [==============================] - 320s 22ms/sample - loss: 0.5428 - acc: 0.7246\n",
      "Epoch 9/10\n",
      "14451/14451 [==============================] - 321s 22ms/sample - loss: 0.5311 - acc: 0.7280\n",
      "Epoch 10/10\n",
      "14451/14451 [==============================] - 320s 22ms/sample - loss: 0.5226 - acc: 0.7334\n",
      "1606/1606 [==============================] - 41s 26ms/sample - loss: 0.5606 - acc: 0.7142\n",
      "\n",
      " none  테스트 정확도: 0.7142\n",
      "Train on 17100 samples\n",
      "Epoch 1/10\n",
      "17100/17100 [==============================] - 403s 24ms/sample - loss: 0.7085 - acc: 0.5439\n",
      "Epoch 2/10\n",
      "17100/17100 [==============================] - 407s 24ms/sample - loss: 0.6048 - acc: 0.6637\n",
      "Epoch 3/10\n",
      "17100/17100 [==============================] - 405s 24ms/sample - loss: 0.5303 - acc: 0.7463\n",
      "Epoch 4/10\n",
      "17100/17100 [==============================] - 405s 24ms/sample - loss: 0.4578 - acc: 0.8153\n",
      "Epoch 5/10\n",
      "17100/17100 [==============================] - 406s 24ms/sample - loss: 0.3905 - acc: 0.8662\n",
      "Epoch 6/10\n",
      "17100/17100 [==============================] - 263s 15ms/sample - loss: 0.3226 - acc: 0.9100\n",
      "Epoch 7/10\n",
      "17100/17100 [==============================] - 208s 12ms/sample - loss: 0.2637 - acc: 0.9370\n",
      "Epoch 8/10\n",
      "17100/17100 [==============================] - 207s 12ms/sample - loss: 0.2076 - acc: 0.9514\n",
      "Epoch 9/10\n",
      "17100/17100 [==============================] - 205s 12ms/sample - loss: 0.1658 - acc: 0.9628\n",
      "Epoch 10/10\n",
      "17100/17100 [==============================] - 206s 12ms/sample - loss: 0.1350 - acc: 0.9711\n",
      "1900/1900 [==============================] - 25s 13ms/sample - loss: 0.1650 - acc: 0.9474\n",
      "\n",
      " violent  테스트 정확도: 0.9474\n",
      "Train on 8975 samples\n",
      "Epoch 1/10\n",
      "8975/8975 [==============================] - 104s 12ms/sample - loss: 0.8867 - acc: 0.6293\n",
      "Epoch 2/10\n",
      "8975/8975 [==============================] - 103s 11ms/sample - loss: 0.7167 - acc: 0.6484\n",
      "Epoch 3/10\n",
      "8975/8975 [==============================] - 103s 11ms/sample - loss: 0.6937 - acc: 0.6529\n",
      "Epoch 4/10\n",
      "8975/8975 [==============================] - 102s 11ms/sample - loss: 0.6760 - acc: 0.6559\n",
      "Epoch 5/10\n",
      "8975/8975 [==============================] - 102s 11ms/sample - loss: 0.6607 - acc: 0.6587\n",
      "Epoch 6/10\n",
      "8975/8975 [==============================] - 103s 11ms/sample - loss: 0.6517 - acc: 0.6607\n",
      "Epoch 7/10\n",
      "8975/8975 [==============================] - 103s 11ms/sample - loss: 0.6441 - acc: 0.6640\n",
      "Epoch 8/10\n",
      "8975/8975 [==============================] - 103s 11ms/sample - loss: 0.6360 - acc: 0.6699\n",
      "Epoch 9/10\n",
      "8975/8975 [==============================] - 103s 11ms/sample - loss: 0.6302 - acc: 0.6720\n",
      "Epoch 10/10\n",
      "8975/8975 [==============================] - 102s 11ms/sample - loss: 0.6257 - acc: 0.6760\n",
      "998/998 [==============================] - 14s 14ms/sample - loss: 0.6759 - acc: 0.6313\n",
      "\n",
      " blame  테스트 정확도: 0.6313\n",
      "Train on 17683 samples\n",
      "Epoch 1/10\n",
      "17683/17683 [==============================] - 219s 12ms/sample - loss: 0.6447 - acc: 0.6207\n",
      "Epoch 2/10\n",
      "17683/17683 [==============================] - 218s 12ms/sample - loss: 0.4386 - acc: 0.8331\n",
      "Epoch 3/10\n",
      "17683/17683 [==============================] - 216s 12ms/sample - loss: 0.3118 - acc: 0.9252\n",
      "Epoch 4/10\n",
      "17683/17683 [==============================] - 218s 12ms/sample - loss: 0.2317 - acc: 0.9570\n",
      "Epoch 5/10\n",
      "17683/17683 [==============================] - 218s 12ms/sample - loss: 0.1797 - acc: 0.9722\n",
      "Epoch 6/10\n",
      "17683/17683 [==============================] - 217s 12ms/sample - loss: 0.1373 - acc: 0.9829\n",
      "Epoch 7/10\n",
      "17683/17683 [==============================] - 217s 12ms/sample - loss: 0.1107 - acc: 0.9876\n",
      "Epoch 8/10\n",
      "17683/17683 [==============================] - 219s 12ms/sample - loss: 0.0892 - acc: 0.9905\n",
      "Epoch 9/10\n",
      "17683/17683 [==============================] - 217s 12ms/sample - loss: 0.0750 - acc: 0.9923\n",
      "Epoch 10/10\n",
      "17683/17683 [==============================] - 218s 12ms/sample - loss: 0.0628 - acc: 0.9938\n",
      "1965/1965 [==============================] - 27s 14ms/sample - loss: 0.0750 - acc: 0.9883\n",
      "\n",
      " curse  테스트 정확도: 0.9883\n",
      "Train on 17683 samples\n",
      "Epoch 1/10\n",
      "17683/17683 [==============================] - 202s 11ms/sample - loss: 0.9776 - acc: 0.5903\n",
      "Epoch 2/10\n",
      "17683/17683 [==============================] - 202s 11ms/sample - loss: 0.5463 - acc: 0.7468\n",
      "Epoch 3/10\n",
      "17683/17683 [==============================] - 202s 11ms/sample - loss: 0.3548 - acc: 0.8621\n",
      "Epoch 4/10\n",
      "17683/17683 [==============================] - 203s 11ms/sample - loss: 0.2511 - acc: 0.9157\n",
      "Epoch 5/10\n",
      "17683/17683 [==============================] - 204s 12ms/sample - loss: 0.1871 - acc: 0.9455\n",
      "Epoch 6/10\n",
      "17683/17683 [==============================] - 203s 11ms/sample - loss: 0.1492 - acc: 0.9606\n",
      "Epoch 7/10\n",
      "17683/17683 [==============================] - 202s 11ms/sample - loss: 0.1175 - acc: 0.9714\n",
      "Epoch 8/10\n",
      "17683/17683 [==============================] - 201s 11ms/sample - loss: 0.0946 - acc: 0.9799\n",
      "Epoch 9/10\n",
      "17683/17683 [==============================] - 202s 11ms/sample - loss: 0.0791 - acc: 0.9851\n",
      "Epoch 10/10\n",
      "17683/17683 [==============================] - 202s 11ms/sample - loss: 0.0658 - acc: 0.9891\n",
      "1965/1965 [==============================] - 26s 13ms/sample - loss: 0.0754 - acc: 0.9822\n",
      "\n",
      " discrimination  테스트 정확도: 0.9822\n"
     ]
    }
   ],
   "source": [
    "for i,lb in enumerate(e_lblist):\n",
    "    data = pd.read_csv('./data_'+lb+'.csv')\n",
    "    train,test =train_test_split(data,train_size = 0.9)\n",
    "    x_train = train['sentence']\n",
    "    x_test = test['sentence']\n",
    "    y_train = train[lblist[i]]\n",
    "    y_test = test[lblist[i]]\n",
    "\n",
    "    model = Model(inputs=[input_text], outputs=output_layer)\n",
    "    model.compile(loss='binary_crossentropy', optimizer='adam', metrics=['accuracy'])\n",
    "    history = model.fit(x_train, y_train, epochs=10, batch_size=64)\n",
    "    print(\"\\n\",lb,\" 테스트 정확도: %.4f\" % (model.evaluate(x_test, y_test)[1]))"
   ]
  },
  {
   "cell_type": "code",
   "execution_count": null,
   "metadata": {},
   "outputs": [],
   "source": []
  }
 ],
 "metadata": {
  "kernelspec": {
   "display_name": "Python 3",
   "language": "python",
   "name": "python3"
  },
  "language_info": {
   "codemirror_mode": {
    "name": "ipython",
    "version": 3
   },
   "file_extension": ".py",
   "mimetype": "text/x-python",
   "name": "python",
   "nbconvert_exporter": "python",
   "pygments_lexer": "ipython3",
   "version": "3.7.6"
  },
  "toc": {
   "base_numbering": 1,
   "nav_menu": {},
   "number_sections": true,
   "sideBar": true,
   "skip_h1_title": false,
   "title_cell": "Table of Contents",
   "title_sidebar": "Contents",
   "toc_cell": false,
   "toc_position": {},
   "toc_section_display": true,
   "toc_window_display": false
  }
 },
 "nbformat": 4,
 "nbformat_minor": 5
}
